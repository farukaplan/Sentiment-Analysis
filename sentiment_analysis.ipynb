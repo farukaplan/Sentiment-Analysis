{
 "cells": [
  {
   "cell_type": "markdown",
   "id": "9b1f8e0f",
   "metadata": {},
   "source": [
    "# Sentiment Analysis Using Deep Learning\n",
    "---"
   ]
  },
  {
   "cell_type": "markdown",
   "id": "9fcc37ba",
   "metadata": {},
   "source": [
    "## Content\n",
    "\n",
    "1) **Project Overview**\n",
    "- Short explanation of the project\n",
    "\n",
    "2) **Text Preprocessing**\n",
    "- Contraction Expansion 'cont_exp'\n",
    "- Email Removal 'remove_emails'\n",
    "- HTML Tags Removal 'remove_html_tags'\n",
    "- URL Removal 'remove_urls'\n",
    "- Special Characters Removal 'remove_special_chars'\n",
    "- Accented Characters Handling 'remove_accented_chars'\n",
    "- Text Normalization 'make_base'\n",
    "- Spelling Correction\n",
    "\n",
    "3) **Model Implementation**\n",
    "- GloVe Embedding Integration\n",
    "- Neural Network Architecture\n",
    "- Training and Evaluation\n",
    "---"
   ]
  },
  {
   "cell_type": "markdown",
   "id": "f7c8410c",
   "metadata": {},
   "source": [
    "## Project Overview and Dataset\n",
    "In this project, we will implement a sentiment analysis model using deep learning techniques. We will work with an English text dataset, perform various preprocessing steps, and implement a neural network model using GloVe embeddings.\n",
    "\n",
    "We used english text dataset with sentiment labels. Format is .csv"
   ]
  },
  {
   "cell_type": "markdown",
   "id": "58fa8358",
   "metadata": {},
   "source": [
    "**Import the dataset, and check first few lines**"
   ]
  },
  {
   "cell_type": "code",
   "execution_count": 1,
   "id": "5c2a9e3a",
   "metadata": {},
   "outputs": [],
   "source": [
    "import pandas as pd\n",
    "import os"
   ]
  },
  {
   "cell_type": "code",
   "execution_count": 2,
   "id": "5aef80db",
   "metadata": {},
   "outputs": [
    {
     "name": "stdout",
     "output_type": "stream",
     "text": [
      "Dataset loaded successfully!\n",
      "      id                                               text  label sentiment\n",
      "0   9536                    Cooking microwave pizzas, yummy      2  positive\n",
      "1   6135  Any plans of allowing sub tasks to show up in ...      1   neutral\n",
      "2  17697   I love the humor, I just reworded it. Like sa...      2  positive\n",
      "3  14182                       naw idk what ur talkin about      1   neutral\n",
      "4  17840          That sucks to hear. I hate days like that      0  negative\n"
     ]
    }
   ],
   "source": [
    "dataset_path = 'data/ENG_SA_Dataset.csv'\n",
    "\n",
    "if os.path.exists(dataset_path):\n",
    "    data = pd.read_csv(dataset_path)\n",
    "    \n",
    "    print(\"Dataset loaded successfully!\")\n",
    "    print(data.head())\n",
    "else:\n",
    "    print(f\"File not found at {dataset_path}. Please check the path and try again.\")"
   ]
  },
  {
   "cell_type": "markdown",
   "id": "17b06057",
   "metadata": {},
   "source": [
    "---\n",
    "## Text Preprocessing"
   ]
  },
  {
   "cell_type": "code",
   "execution_count": 3,
   "id": "1f4222de",
   "metadata": {},
   "outputs": [],
   "source": [
    "from autocorrect import Speller\n",
    "import contractions\n",
    "import unicodedata\n",
    "import re"
   ]
  },
  {
   "cell_type": "markdown",
   "id": "0d44bfdd",
   "metadata": {},
   "source": [
    "**Contraction Expansion `cont_exp`**\n",
    "- In here, we will expand contractions in the text (e.g., \"don't\" → \"do not\")\n",
    "- We will use `contractions` library as dictionary"
   ]
  },
  {
   "cell_type": "code",
   "execution_count": 4,
   "id": "51bb1923",
   "metadata": {},
   "outputs": [],
   "source": [
    "def cont_exp(text):\n",
    "    if not isinstance(text, str):\n",
    "        return text\n",
    "    \n",
    "    return contractions.fix(text)"
   ]
  },
  {
   "cell_type": "markdown",
   "id": "feb7cfcf",
   "metadata": {},
   "source": [
    "**E-Mail Removal `remove_emails`**\n",
    "- Remove all e-mail addresses from the text\n",
    "- We will use regex patterns to accomplish that"
   ]
  },
  {
   "cell_type": "code",
   "execution_count": 5,
   "id": "239ad681",
   "metadata": {},
   "outputs": [],
   "source": [
    "email_pattern = r'\\b[A-Za-z0-9._%+-]+@[A-Za-z0-9.-]+\\.[A-Za-z]{2,}\\b'\n",
    "handle_pattern = r'@\\w+'\n",
    "combined_pattern = f'({email_pattern})|({handle_pattern})'\n",
    "\n",
    "def remove_emails(text):\n",
    "    if not isinstance(text, str):\n",
    "        return text\n",
    "    \n",
    "    # Remove email addresses\n",
    "    text = re.sub(email_pattern, '', text)\n",
    "    \n",
    "    # Remove username adresses\n",
    "    text = re.sub(handle_pattern, '', text)\n",
    "    \n",
    "    # Remove extra spaces resulting from the removals\n",
    "    text = re.sub(r'\\s+', ' ', text).strip()\n",
    "    \n",
    "    return text"
   ]
  },
  {
   "cell_type": "markdown",
   "id": "6a553a8c",
   "metadata": {},
   "source": [
    "**HTML Tags Removal `remove_html_tags`**\n",
    "- Remove all URLs from the text\n",
    "- To do this, we will use regex"
   ]
  },
  {
   "cell_type": "code",
   "execution_count": 6,
   "id": "34f93a50",
   "metadata": {},
   "outputs": [],
   "source": [
    "def remove_html_tags(text):\n",
    "    if not isinstance(text, str):\n",
    "        return \"\"\n",
    "    \n",
    "    return re.sub(r'<[^>]*>', '', text)"
   ]
  },
  {
   "cell_type": "markdown",
   "id": "f5dc6d83",
   "metadata": {},
   "source": [
    "**URL Removal `remove_urls`**\n",
    "- Remove all URLs from the text\n",
    "- To do that, we will use regex"
   ]
  },
  {
   "cell_type": "code",
   "execution_count": 7,
   "id": "85be87ee",
   "metadata": {},
   "outputs": [],
   "source": [
    "url_pattern = r'http[s]?://(?:[a-zA-Z]|[0-9]|[$-_@.&+]|[!*\\(\\),]|(?:%[0-9a-fA-F][0-9a-fA-F]))+|www\\.(?:[a-zA-Z]|[0-9]|[$-_@.&+]|[!*\\(\\),]|(?:%[0-9a-fA-F][0-9a-fA-F]))+'\n",
    "\n",
    "def remove_urls(text):\n",
    "    if not isinstance(text, str):\n",
    "        return text\n",
    "    \n",
    "    # Remove URLs\n",
    "    text = re.sub(url_pattern, '', text)\n",
    "    \n",
    "    # Remove extra spaces and trailing punctuation\n",
    "    clean_text = re.sub(r'\\s+', ' ', text).strip()\n",
    "    \n",
    "    return text"
   ]
  },
  {
   "cell_type": "markdown",
   "id": "b560e528",
   "metadata": {},
   "source": [
    "**Special Character Removal `remove_special_chars`**\n",
    "- Remove special characters and numbers"
   ]
  },
  {
   "cell_type": "code",
   "execution_count": 8,
   "id": "771b2568",
   "metadata": {},
   "outputs": [],
   "source": [
    "special_char_pattern = r'[^A-Za-zÀ-ÿ\\s]'\n",
    "\n",
    "def remove_special_chars(text):    \n",
    "    if not isinstance(text, str):\n",
    "        return text\n",
    "    \n",
    "    # Remove special characters and numbers\n",
    "    cleaned_text = re.sub(special_char_pattern, '', text)\n",
    "    \n",
    "    # Remove any extra spaces resulting from the removal\n",
    "    cleaned_text = re.sub(r'\\s+', ' ', cleaned_text).strip()\n",
    "    \n",
    "    return cleaned_text"
   ]
  },
  {
   "cell_type": "markdown",
   "id": "09685ac8",
   "metadata": {},
   "source": [
    "**Accented Character Handling `remove_accented_chars`**\n",
    "- Replace accented characters with their non-accented equivalents\n",
    "- We will use `unicode` library"
   ]
  },
  {
   "cell_type": "code",
   "execution_count": 9,
   "id": "65e8edbd",
   "metadata": {},
   "outputs": [],
   "source": [
    "def remove_accented_chars(text):\n",
    "    if not isinstance(text, str):\n",
    "        return text\n",
    "    \n",
    "    # Normalize the text to NFKD form, which separates characters from their diacritics\n",
    "    normalized_text = unicodedata.normalize('NFKD', text)\n",
    "    \n",
    "    # Encode to ASCII bytes, ignoring characters that can't be encoded (i.e., diacritics)\n",
    "    ascii_bytes = normalized_text.encode('ASCII', 'ignore')\n",
    "    \n",
    "    # Decode back to a string\n",
    "    cleaned_text = ascii_bytes.decode('ASCII')\n",
    "    \n",
    "    # Remove any extra spaces resulting from the removal\n",
    "    cleaned_text = re.sub(r'\\s+', ' ', cleaned_text).strip()\n",
    "    \n",
    "    return cleaned_text"
   ]
  },
  {
   "cell_type": "markdown",
   "id": "a26665b6",
   "metadata": {},
   "source": [
    "**Text Normalization `make_base`**\n",
    "- Convert text to lowercase\n",
    "- Remove extra whitespaces\n",
    "- Basic text cleaning and standardization"
   ]
  },
  {
   "cell_type": "code",
   "execution_count": 10,
   "id": "414ce350",
   "metadata": {},
   "outputs": [],
   "source": [
    "def make_base(text):\n",
    "    if not isinstance(text, str):\n",
    "        return text  \n",
    "    \n",
    "    # Convert text to lowercase\n",
    "    text = text.lower()\n",
    "    \n",
    "    # Remove extra whitespaces\n",
    "    text = re.sub(r'\\s+', ' ', text).strip()\n",
    "    \n",
    "    return text"
   ]
  },
  {
   "cell_type": "markdown",
   "id": "de8d8a3a",
   "metadata": {},
   "source": [
    "**Spelling Correction `correct_spelling`**\n",
    "- Implement basic spelling correction\n",
    "    - Since there is a lot of data in dataset, we will choose fastest way to do this\n",
    "    - We will use `autocorrect` library\n",
    "- Extract raw sentences after correction"
   ]
  },
  {
   "cell_type": "code",
   "execution_count": 11,
   "id": "ba42fbaf",
   "metadata": {},
   "outputs": [],
   "source": [
    "spell = Speller(lang='en')\n",
    "\n",
    "def correct_spelling(text):\n",
    "    if not isinstance(text, str):\n",
    "        return text\n",
    "    \n",
    "    # Correct the text\n",
    "    corrected_text = spell(text)\n",
    "    \n",
    "    return corrected_text"
   ]
  },
  {
   "cell_type": "markdown",
   "id": "1973d7cf",
   "metadata": {},
   "source": [
    "**Now, apply all above functions**"
   ]
  },
  {
   "cell_type": "code",
   "execution_count": 12,
   "id": "9adbbe62",
   "metadata": {},
   "outputs": [],
   "source": [
    "# Some contractions uses backticks instead of standard apostrophes, handle it\n",
    "data['text'] = data['text'].str.replace('`', \"'\", regex=False)\n",
    "\n",
    "# Expand contractions by using `cont_exp` method\n",
    "data['text_expanded'] = data['text'].apply(cont_exp)\n",
    "\n",
    "# Remove e-mails by using `remove_emails` method\n",
    "data['text_no_emails'] = data['text_expanded'].apply(remove_emails)\n",
    "\n",
    "# Remove HTML tags by using `remove_html_tags` method\n",
    "data['text_no_html'] = data['text_no_emails'].apply(remove_html_tags)\n",
    "\n",
    "# Remove URL's by using `remove_urls` method\n",
    "data['text_no_urls'] = data['text_no_html'].apply(remove_urls)\n",
    "\n",
    "# Remove special characters by using `remove_special_chars` method\n",
    "data['text_alpha'] = data['text_no_urls'].apply(remove_special_chars)\n",
    "\n",
    "# Remove accented chars by using `remove_accented_chars` method\n",
    "data['text_no_accents'] = data['text_alpha'].apply(remove_accented_chars)\n",
    "\n",
    "# Normalize text by using `make_base` method\n",
    "data['text_base'] = data['text_no_accents'].apply(make_base)\n",
    "\n",
    "# Correct spelling errors by using `correct_spelling` method\n",
    "data['text_final'] = data['text_base'].apply(correct_spelling)"
   ]
  },
  {
   "cell_type": "markdown",
   "id": "faacd864",
   "metadata": {},
   "source": [
    "**Now, test the preprocessing steps**"
   ]
  },
  {
   "cell_type": "code",
   "execution_count": 13,
   "id": "aa9cd11a",
   "metadata": {},
   "outputs": [
    {
     "name": "stdout",
     "output_type": "stream",
     "text": [
      "Before cont_exp: Uninstalled in 5 minutes. It didn't populate anything that I had on my calender. I even tried to manually put in events and it wouldn't show on widget\n",
      "\n",
      "After cont_exp: Uninstalled in 5 minutes. It did not populate anything that I had on my calender. I even tried to manually put in events and it would not show on widget\n"
     ]
    }
   ],
   "source": [
    "print(\"Before cont_exp:\", data['text'][31203])\n",
    "print()\n",
    "print(\"After cont_exp:\", data['text_expanded'][31203])"
   ]
  },
  {
   "cell_type": "code",
   "execution_count": 14,
   "id": "680efb9b",
   "metadata": {},
   "outputs": [
    {
     "name": "stdout",
     "output_type": "stream",
     "text": [
      "Before remove_emails: @_missrachel how much?\n",
      "\n",
      "After remove_emails: how much?\n"
     ]
    }
   ],
   "source": [
    "print(\"Before remove_emails:\", data['text_expanded'][33])\n",
    "print()\n",
    "print(\"After remove_emails:\", data['text_no_emails'][33])"
   ]
  },
  {
   "cell_type": "code",
   "execution_count": 15,
   "id": "d38d12f8",
   "metadata": {},
   "outputs": [
    {
     "name": "stdout",
     "output_type": "stream",
     "text": [
      "Before remove_urls: http://twitpic.com/3ernb - Loving The Jumper\n",
      "\n",
      "After remove_urls:  - Loving The Jumper\n"
     ]
    }
   ],
   "source": [
    "print(\"Before remove_urls:\", data['text_no_html'][24])\n",
    "print()\n",
    "print(\"After remove_urls:\", data['text_no_urls'][24])"
   ]
  },
  {
   "cell_type": "code",
   "execution_count": 16,
   "id": "8e3011c0",
   "metadata": {},
   "outputs": [
    {
     "name": "stdout",
     "output_type": "stream",
     "text": [
      "Before remove_special_chars: 💩👎💩👎💩👎💩 👻☠️ IMPOSSIBLE TO DELETE LIST, OR SUB LISTS (TABS)!!! ☠️👻 REGRET v2.0 UPGRADE!! 👎💩👎💩👎💩👎💩👎💩👎💩👎💩👎💩👎💩👎💩👎💩👎💩👎💩👎💩👎💩👎💩👎\n",
      "\n",
      "After remove_special_chars: IMPOSSIBLE TO DELETE LIST OR SUB LISTS TABS REGRET v UPGRADE\n"
     ]
    }
   ],
   "source": [
    "print(\"Before remove_special_chars:\", data['text_no_urls'][174])\n",
    "print()\n",
    "print(\"After remove_special_chars:\", data['text_alpha'][174])"
   ]
  },
  {
   "cell_type": "code",
   "execution_count": 17,
   "id": "ba257cec",
   "metadata": {},
   "outputs": [
    {
     "name": "stdout",
     "output_type": "stream",
     "text": [
      "Before remove_accented_chars: Es muy útil para mantener las aplicaciones del celular cerradas mientras trabajas.\n",
      "\n",
      "After remove_accented_chars: Es muy util para mantener las aplicaciones del celular cerradas mientras trabajas\n"
     ]
    }
   ],
   "source": [
    "print(\"Before remove_accented_chars:\", data['text_no_urls'][185])\n",
    "print()\n",
    "print(\"After remove_accented_chars:\", data['text_no_accents'][185])"
   ]
  },
  {
   "cell_type": "code",
   "execution_count": 18,
   "id": "e8b565fc",
   "metadata": {},
   "outputs": [
    {
     "name": "stdout",
     "output_type": "stream",
     "text": [
      "Before make_base: RadioACTIVE never gets old and never will this is the th time i have listened to the cd its on repeat today and still love it D\n",
      "\n",
      "After make_base: radioactive never gets old and never will this is the th time i have listened to the cd its on repeat today and still love it d\n"
     ]
    }
   ],
   "source": [
    "print(\"Before make_base:\", data['text_no_accents'][194])\n",
    "print()\n",
    "print(\"After make_base:\", data['text_base'][194])"
   ]
  },
  {
   "cell_type": "code",
   "execution_count": 19,
   "id": "08176bb2",
   "metadata": {},
   "outputs": [
    {
     "name": "stdout",
     "output_type": "stream",
     "text": [
      "Before correct_spelling: feeling sick headache bored tireddd\n",
      "\n",
      "After correct_spelling: feeling sick headache bored tired\n"
     ]
    }
   ],
   "source": [
    "print(\"Before correct_spelling:\", data['text_base'][397])\n",
    "print()\n",
    "print(\"After correct_spelling:\", data['text_final'][397])"
   ]
  },
  {
   "cell_type": "markdown",
   "id": "678a4d8c",
   "metadata": {},
   "source": [
    "---\n",
    "## Model Development"
   ]
  },
  {
   "cell_type": "markdown",
   "id": "cad3cd18",
   "metadata": {},
   "source": [
    "**GloVe Embedding Integration**\n",
    "- Download and load GloVe embeddings\n",
    "- Use the 100-dimensional GloVe vectors\n",
    "- Create an embedding matrix for your vocabulary\n",
    "- Handle words not found in GloVe embeddings"
   ]
  },
  {
   "cell_type": "code",
   "execution_count": 20,
   "id": "07c4a2fe",
   "metadata": {},
   "outputs": [],
   "source": [
    "from tensorflow.keras.layers import Embedding, LSTM, GRU, Dense, Bidirectional, Dropout\n",
    "from sklearn.metrics import accuracy_score, precision_score, recall_score, f1_score\n",
    "from tensorflow.keras.callbacks import EarlyStopping, ModelCheckpoint\n",
    "from tensorflow.keras.preprocessing.sequence import pad_sequences\n",
    "from tensorflow.keras.preprocessing.text import Tokenizer\n",
    "from sklearn.model_selection import train_test_split\n",
    "from sklearn.metrics import classification_report\n",
    "from tensorflow.keras.models import Sequential\n",
    "from tensorflow.keras.optimizers import Adam\n",
    "from nltk.tokenize import word_tokenize\n",
    "import matplotlib.pyplot as plt\n",
    "import numpy as np\n",
    "import requests\n",
    "import zipfile\n",
    "import nltk"
   ]
  },
  {
   "cell_type": "markdown",
   "id": "399f36a2",
   "metadata": {},
   "source": [
    "**Download and load GloVe embeddings**"
   ]
  },
  {
   "cell_type": "code",
   "execution_count": 21,
   "id": "beca6bb4",
   "metadata": {},
   "outputs": [
    {
     "name": "stdout",
     "output_type": "stream",
     "text": [
      "GloVe zip file already exists.\n",
      "Extracting GloVe embeddings...\n",
      "Extraction completed.\n"
     ]
    }
   ],
   "source": [
    "glove_url = \"http://nlp.stanford.edu/data/glove.6B.zip\"\n",
    "glove_zip_path = \"data/glove.6B.zip\"\n",
    "glove_folder = \"data/glove.6B/\"\n",
    "\n",
    "# Create the data directory if it doesn't exist\n",
    "os.makedirs(\"data\", exist_ok=True)\n",
    "\n",
    "# Download the GloVe embeddings if not already downloaded\n",
    "if not os.path.exists(glove_zip_path):\n",
    "    print(\"Downloading GloVe embeddings...\")\n",
    "    response = requests.get(glove_url, stream=True)\n",
    "    with open(glove_zip_path, 'wb') as file:\n",
    "        for chunk in response.iter_content(chunk_size=1024):\n",
    "            if chunk:\n",
    "                file.write(chunk)\n",
    "    print(\"Download completed.\")\n",
    "else:\n",
    "    print(\"GloVe zip file already exists.\")\n",
    "    \n",
    "# Extract the embeddings if not already extracted\n",
    "if not os.path.exists(glove_folder):\n",
    "    print(\"Extracting GloVe embeddings...\")\n",
    "    with zipfile.ZipFile(glove_zip_path, 'r') as zip_ref:\n",
    "        zip_ref.extractall(\"data/\")\n",
    "    print(\"Extraction completed.\")\n",
    "else:\n",
    "    print(\"GloVe embeddings already extracted.\")"
   ]
  },
  {
   "cell_type": "code",
   "execution_count": 22,
   "id": "0b3b3a63",
   "metadata": {},
   "outputs": [
    {
     "name": "stdout",
     "output_type": "stream",
     "text": [
      "Loaded 400000 word vectors from GloVe.\n"
     ]
    }
   ],
   "source": [
    "def load_glove_embeddings(glove_file_path):\n",
    "    embeddings_index = {}\n",
    "    \n",
    "    with open(glove_file_path, 'r', encoding='utf8') as f:\n",
    "        for line in f:\n",
    "            values = line.split()\n",
    "            word = values[0]\n",
    "            vector = np.asarray(values[1:], dtype='float32')\n",
    "            embeddings_index[word] = vector\n",
    "    print(f\"Loaded {len(embeddings_index)} word vectors from GloVe.\")\n",
    "    return embeddings_index\n",
    "\n",
    "# Path to the 100-dimensional GloVe vectors\n",
    "glove_file = \"data/glove.6B.100d.txt\"\n",
    "\n",
    "# Load embeddings\n",
    "embeddings_index = load_glove_embeddings(glove_file)"
   ]
  },
  {
   "cell_type": "markdown",
   "id": "e328f650",
   "metadata": {},
   "source": [
    "**Tokenize text using NLTK's word_tokenize**"
   ]
  },
  {
   "cell_type": "code",
   "execution_count": 23,
   "id": "6ba2ccba",
   "metadata": {},
   "outputs": [
    {
     "name": "stderr",
     "output_type": "stream",
     "text": [
      "[nltk_data] Downloading package punkt to /Users/fako/nltk_data...\n",
      "[nltk_data]   Package punkt is already up-to-date!\n"
     ]
    }
   ],
   "source": [
    "nltk.download('punkt')\n",
    "\n",
    "# Convert text to string format for processing\n",
    "texts = data['text_final'].astype(str).tolist()\n",
    "\n",
    "# Tokenization\n",
    "tokenized_texts = [' '.join(word_tokenize(text)) for text in texts]"
   ]
  },
  {
   "cell_type": "markdown",
   "id": "fd07de11",
   "metadata": {},
   "source": [
    "**Create an embedding matrix for your vocabulary**"
   ]
  },
  {
   "cell_type": "code",
   "execution_count": 24,
   "id": "1a4ac6d7",
   "metadata": {},
   "outputs": [
    {
     "name": "stdout",
     "output_type": "stream",
     "text": [
      "Vocabulary Size: 20743\n",
      "Maximum Sequence Length: 392\n"
     ]
    }
   ],
   "source": [
    "# Initialize TensorFlow Tokenizer\n",
    "tokenizer = Tokenizer()\n",
    "tokenizer.fit_on_texts(tokenized_texts)\n",
    "\n",
    "# Vocabulary size\n",
    "vocab_size = len(tokenizer.word_index) + 1\n",
    "print(f\"Vocabulary Size: {vocab_size}\")\n",
    "\n",
    "# Convert texts to sequences\n",
    "sequences = tokenizer.texts_to_sequences(texts)\n",
    "\n",
    "max_sequence_length = max(len(seq) for seq in sequences)\n",
    "print(f\"Maximum Sequence Length: {max_sequence_length}\")\n",
    "\n",
    "# Pad sequences\n",
    "padded_sequences = pad_sequences(sequences, maxlen=max_sequence_length, padding='pre')\n",
    "\n",
    "embedding_dim = 100\n",
    "\n",
    "# Initialize the embedding matrix with zeros\n",
    "embedding_matrix = np.zeros((vocab_size, embedding_dim))"
   ]
  },
  {
   "cell_type": "markdown",
   "id": "1bbd17c7",
   "metadata": {},
   "source": [
    "**Populate the embedding matrix and handle words not found in GloVe embeddings**\n",
    "- If word is not found in GloVe, initialize with a random vector"
   ]
  },
  {
   "cell_type": "code",
   "execution_count": 25,
   "id": "fa348a24",
   "metadata": {},
   "outputs": [
    {
     "data": {
      "text/plain": [
       "(20743, 100)"
      ]
     },
     "execution_count": 25,
     "metadata": {},
     "output_type": "execute_result"
    }
   ],
   "source": [
    "# Populate the embedding matrix\n",
    "for word, index in tokenizer.word_index.items():\n",
    "    if index >= vocab_size:\n",
    "        continue\n",
    "    embedding_vector = embeddings_index.get(word)\n",
    "    if embedding_vector is not None:\n",
    "        # Words found in GloVe\n",
    "        embedding_matrix[index] = embedding_vector\n",
    "    else:\n",
    "        # Words not found in GloVe\n",
    "        # We will initialize with a random vector or keep as zeros\n",
    "        embedding_matrix[index] = np.random.normal(scale=0.6, size=(embedding_dim,))\n",
    "\n",
    "embedding_matrix.shape"
   ]
  },
  {
   "cell_type": "markdown",
   "id": "20da2b98",
   "metadata": {},
   "source": [
    "**Neural Network Architecture**\n",
    "- Input Layer: Tokenized and padded sequences\n",
    "- Embedding Layer: Using pre-trained GloVe embeddings\n",
    "- At least one LSTM/GRU layer\n",
    "- Appropriate dense layers\n",
    "- Output Layer: Suitable for sentiment classification"
   ]
  },
  {
   "cell_type": "code",
   "execution_count": 26,
   "id": "c4e200f6",
   "metadata": {},
   "outputs": [
    {
     "data": {
      "text/html": [
       "<pre style=\"white-space:pre;overflow-x:auto;line-height:normal;font-family:Menlo,'DejaVu Sans Mono',consolas,'Courier New',monospace\"><span style=\"font-weight: bold\">Model: \"sequential\"</span>\n",
       "</pre>\n"
      ],
      "text/plain": [
       "\u001b[1mModel: \"sequential\"\u001b[0m\n"
      ]
     },
     "metadata": {},
     "output_type": "display_data"
    },
    {
     "data": {
      "text/html": [
       "<pre style=\"white-space:pre;overflow-x:auto;line-height:normal;font-family:Menlo,'DejaVu Sans Mono',consolas,'Courier New',monospace\">┏━━━━━━━━━━━━━━━━━━━━━━━━━━━━━━━━━┳━━━━━━━━━━━━━━━━━━━━━━━━┳━━━━━━━━━━━━━━━┓\n",
       "┃<span style=\"font-weight: bold\"> Layer (type)                    </span>┃<span style=\"font-weight: bold\"> Output Shape           </span>┃<span style=\"font-weight: bold\">       Param # </span>┃\n",
       "┡━━━━━━━━━━━━━━━━━━━━━━━━━━━━━━━━━╇━━━━━━━━━━━━━━━━━━━━━━━━╇━━━━━━━━━━━━━━━┩\n",
       "│ embedding (<span style=\"color: #0087ff; text-decoration-color: #0087ff\">Embedding</span>)           │ ?                      │     <span style=\"color: #00af00; text-decoration-color: #00af00\">2,074,300</span> │\n",
       "├─────────────────────────────────┼────────────────────────┼───────────────┤\n",
       "│ bidirectional (<span style=\"color: #0087ff; text-decoration-color: #0087ff\">Bidirectional</span>)   │ ?                      │   <span style=\"color: #00af00; text-decoration-color: #00af00\">0</span> (unbuilt) │\n",
       "├─────────────────────────────────┼────────────────────────┼───────────────┤\n",
       "│ dropout (<span style=\"color: #0087ff; text-decoration-color: #0087ff\">Dropout</span>)               │ ?                      │             <span style=\"color: #00af00; text-decoration-color: #00af00\">0</span> │\n",
       "├─────────────────────────────────┼────────────────────────┼───────────────┤\n",
       "│ dense (<span style=\"color: #0087ff; text-decoration-color: #0087ff\">Dense</span>)                   │ ?                      │   <span style=\"color: #00af00; text-decoration-color: #00af00\">0</span> (unbuilt) │\n",
       "├─────────────────────────────────┼────────────────────────┼───────────────┤\n",
       "│ dense_1 (<span style=\"color: #0087ff; text-decoration-color: #0087ff\">Dense</span>)                 │ ?                      │   <span style=\"color: #00af00; text-decoration-color: #00af00\">0</span> (unbuilt) │\n",
       "└─────────────────────────────────┴────────────────────────┴───────────────┘\n",
       "</pre>\n"
      ],
      "text/plain": [
       "┏━━━━━━━━━━━━━━━━━━━━━━━━━━━━━━━━━┳━━━━━━━━━━━━━━━━━━━━━━━━┳━━━━━━━━━━━━━━━┓\n",
       "┃\u001b[1m \u001b[0m\u001b[1mLayer (type)                   \u001b[0m\u001b[1m \u001b[0m┃\u001b[1m \u001b[0m\u001b[1mOutput Shape          \u001b[0m\u001b[1m \u001b[0m┃\u001b[1m \u001b[0m\u001b[1m      Param #\u001b[0m\u001b[1m \u001b[0m┃\n",
       "┡━━━━━━━━━━━━━━━━━━━━━━━━━━━━━━━━━╇━━━━━━━━━━━━━━━━━━━━━━━━╇━━━━━━━━━━━━━━━┩\n",
       "│ embedding (\u001b[38;5;33mEmbedding\u001b[0m)           │ ?                      │     \u001b[38;5;34m2,074,300\u001b[0m │\n",
       "├─────────────────────────────────┼────────────────────────┼───────────────┤\n",
       "│ bidirectional (\u001b[38;5;33mBidirectional\u001b[0m)   │ ?                      │   \u001b[38;5;34m0\u001b[0m (unbuilt) │\n",
       "├─────────────────────────────────┼────────────────────────┼───────────────┤\n",
       "│ dropout (\u001b[38;5;33mDropout\u001b[0m)               │ ?                      │             \u001b[38;5;34m0\u001b[0m │\n",
       "├─────────────────────────────────┼────────────────────────┼───────────────┤\n",
       "│ dense (\u001b[38;5;33mDense\u001b[0m)                   │ ?                      │   \u001b[38;5;34m0\u001b[0m (unbuilt) │\n",
       "├─────────────────────────────────┼────────────────────────┼───────────────┤\n",
       "│ dense_1 (\u001b[38;5;33mDense\u001b[0m)                 │ ?                      │   \u001b[38;5;34m0\u001b[0m (unbuilt) │\n",
       "└─────────────────────────────────┴────────────────────────┴───────────────┘\n"
      ]
     },
     "metadata": {},
     "output_type": "display_data"
    },
    {
     "data": {
      "text/html": [
       "<pre style=\"white-space:pre;overflow-x:auto;line-height:normal;font-family:Menlo,'DejaVu Sans Mono',consolas,'Courier New',monospace\"><span style=\"font-weight: bold\"> Total params: </span><span style=\"color: #00af00; text-decoration-color: #00af00\">2,074,300</span> (7.91 MB)\n",
       "</pre>\n"
      ],
      "text/plain": [
       "\u001b[1m Total params: \u001b[0m\u001b[38;5;34m2,074,300\u001b[0m (7.91 MB)\n"
      ]
     },
     "metadata": {},
     "output_type": "display_data"
    },
    {
     "data": {
      "text/html": [
       "<pre style=\"white-space:pre;overflow-x:auto;line-height:normal;font-family:Menlo,'DejaVu Sans Mono',consolas,'Courier New',monospace\"><span style=\"font-weight: bold\"> Trainable params: </span><span style=\"color: #00af00; text-decoration-color: #00af00\">0</span> (0.00 B)\n",
       "</pre>\n"
      ],
      "text/plain": [
       "\u001b[1m Trainable params: \u001b[0m\u001b[38;5;34m0\u001b[0m (0.00 B)\n"
      ]
     },
     "metadata": {},
     "output_type": "display_data"
    },
    {
     "data": {
      "text/html": [
       "<pre style=\"white-space:pre;overflow-x:auto;line-height:normal;font-family:Menlo,'DejaVu Sans Mono',consolas,'Courier New',monospace\"><span style=\"font-weight: bold\"> Non-trainable params: </span><span style=\"color: #00af00; text-decoration-color: #00af00\">2,074,300</span> (7.91 MB)\n",
       "</pre>\n"
      ],
      "text/plain": [
       "\u001b[1m Non-trainable params: \u001b[0m\u001b[38;5;34m2,074,300\u001b[0m (7.91 MB)\n"
      ]
     },
     "metadata": {},
     "output_type": "display_data"
    }
   ],
   "source": [
    "model = Sequential()\n",
    "\n",
    "# Embedding Layer\n",
    "model.add(Embedding(input_dim=vocab_size,\n",
    "                    output_dim=embedding_dim,\n",
    "                    weights=[embedding_matrix],\n",
    "                    trainable=False))\n",
    "\n",
    "# Bidirectional LSTM Layer\n",
    "model.add(Bidirectional(LSTM(units=128, return_sequences=False, dropout=0.2, recurrent_dropout=0.2)))\n",
    "\n",
    "# Dropout Layer\n",
    "model.add(Dropout(0.5))\n",
    "\n",
    "# Dense Layer\n",
    "model.add(Dense(64, activation='relu'))\n",
    "\n",
    "# Output Layer\n",
    "model.add(Dense(3, activation='softmax'))\n",
    "\n",
    "# Compile the model\n",
    "model.compile(optimizer=Adam(learning_rate=1e-3),\n",
    "              loss='sparse_categorical_crossentropy',\n",
    "              metrics=['accuracy'])\n",
    "\n",
    "# Display the model summary\n",
    "model.summary()"
   ]
  },
  {
   "cell_type": "code",
   "execution_count": 28,
   "id": "6b57d080",
   "metadata": {},
   "outputs": [
    {
     "name": "stdout",
     "output_type": "stream",
     "text": [
      "Training Samples: 24985\n",
      "Test Samples: 6247\n"
     ]
    },
    {
     "data": {
      "text/plain": [
       "(31232, 392)"
      ]
     },
     "execution_count": 28,
     "metadata": {},
     "output_type": "execute_result"
    }
   ],
   "source": [
    "X = padded_sequences\n",
    "y = data['label'].values\n",
    "\n",
    "# Split the data: 80% training, 20% test\n",
    "X_train, X_test, y_train, y_test = train_test_split(X, y, test_size=0.2, random_state=42)\n",
    "\n",
    "print(f\"Training Samples: {X_train.shape[0]}\")\n",
    "print(f\"Test Samples: {X_test.shape[0]}\")\n",
    "\n",
    "X.shape"
   ]
  },
  {
   "cell_type": "code",
   "execution_count": 29,
   "id": "9d998b6c",
   "metadata": {},
   "outputs": [
    {
     "name": "stdout",
     "output_type": "stream",
     "text": [
      "Epoch 1/20\n",
      "\u001b[1m196/196\u001b[0m \u001b[32m━━━━━━━━━━━━━━━━━━━━\u001b[0m\u001b[37m\u001b[0m \u001b[1m0s\u001b[0m 503ms/step - accuracy: 0.4304 - loss: 1.0599\n",
      "Epoch 1: loss improved from inf to 1.01560, saving model to best_model.keras\n",
      "\u001b[1m196/196\u001b[0m \u001b[32m━━━━━━━━━━━━━━━━━━━━\u001b[0m\u001b[37m\u001b[0m \u001b[1m100s\u001b[0m 503ms/step - accuracy: 0.4307 - loss: 1.0596\n",
      "Epoch 2/20\n",
      "\u001b[1m196/196\u001b[0m \u001b[32m━━━━━━━━━━━━━━━━━━━━\u001b[0m\u001b[37m\u001b[0m \u001b[1m0s\u001b[0m 581ms/step - accuracy: 0.5578 - loss: 0.9285\n",
      "Epoch 2: loss improved from 1.01560 to 0.91273, saving model to best_model.keras\n",
      "\u001b[1m196/196\u001b[0m \u001b[32m━━━━━━━━━━━━━━━━━━━━\u001b[0m\u001b[37m\u001b[0m \u001b[1m114s\u001b[0m 581ms/step - accuracy: 0.5578 - loss: 0.9284\n",
      "Epoch 3/20\n",
      "\u001b[1m196/196\u001b[0m \u001b[32m━━━━━━━━━━━━━━━━━━━━\u001b[0m\u001b[37m\u001b[0m \u001b[1m0s\u001b[0m 582ms/step - accuracy: 0.5984 - loss: 0.8669\n",
      "Epoch 3: loss improved from 0.91273 to 0.85723, saving model to best_model.keras\n",
      "\u001b[1m196/196\u001b[0m \u001b[32m━━━━━━━━━━━━━━━━━━━━\u001b[0m\u001b[37m\u001b[0m \u001b[1m114s\u001b[0m 582ms/step - accuracy: 0.5985 - loss: 0.8669\n",
      "Epoch 4/20\n",
      "\u001b[1m196/196\u001b[0m \u001b[32m━━━━━━━━━━━━━━━━━━━━\u001b[0m\u001b[37m\u001b[0m \u001b[1m0s\u001b[0m 586ms/step - accuracy: 0.6222 - loss: 0.8302\n",
      "Epoch 4: loss improved from 0.85723 to 0.82446, saving model to best_model.keras\n",
      "\u001b[1m196/196\u001b[0m \u001b[32m━━━━━━━━━━━━━━━━━━━━\u001b[0m\u001b[37m\u001b[0m \u001b[1m115s\u001b[0m 586ms/step - accuracy: 0.6222 - loss: 0.8302\n",
      "Epoch 5/20\n",
      "\u001b[1m196/196\u001b[0m \u001b[32m━━━━━━━━━━━━━━━━━━━━\u001b[0m\u001b[37m\u001b[0m \u001b[1m0s\u001b[0m 577ms/step - accuracy: 0.6380 - loss: 0.8061\n",
      "Epoch 5: loss improved from 0.82446 to 0.80936, saving model to best_model.keras\n",
      "\u001b[1m196/196\u001b[0m \u001b[32m━━━━━━━━━━━━━━━━━━━━\u001b[0m\u001b[37m\u001b[0m \u001b[1m113s\u001b[0m 577ms/step - accuracy: 0.6379 - loss: 0.8061\n",
      "Epoch 6/20\n",
      "\u001b[1m196/196\u001b[0m \u001b[32m━━━━━━━━━━━━━━━━━━━━\u001b[0m\u001b[37m\u001b[0m \u001b[1m0s\u001b[0m 584ms/step - accuracy: 0.6369 - loss: 0.8077\n",
      "Epoch 6: loss improved from 0.80936 to 0.79124, saving model to best_model.keras\n",
      "\u001b[1m196/196\u001b[0m \u001b[32m━━━━━━━━━━━━━━━━━━━━\u001b[0m\u001b[37m\u001b[0m \u001b[1m115s\u001b[0m 585ms/step - accuracy: 0.6370 - loss: 0.8077\n",
      "Epoch 7/20\n",
      "\u001b[1m196/196\u001b[0m \u001b[32m━━━━━━━━━━━━━━━━━━━━\u001b[0m\u001b[37m\u001b[0m \u001b[1m0s\u001b[0m 580ms/step - accuracy: 0.6578 - loss: 0.7810\n",
      "Epoch 7: loss improved from 0.79124 to 0.77667, saving model to best_model.keras\n",
      "\u001b[1m196/196\u001b[0m \u001b[32m━━━━━━━━━━━━━━━━━━━━\u001b[0m\u001b[37m\u001b[0m \u001b[1m114s\u001b[0m 580ms/step - accuracy: 0.6578 - loss: 0.7810\n",
      "Epoch 8/20\n",
      "\u001b[1m196/196\u001b[0m \u001b[32m━━━━━━━━━━━━━━━━━━━━\u001b[0m\u001b[37m\u001b[0m \u001b[1m0s\u001b[0m 575ms/step - accuracy: 0.6617 - loss: 0.7668\n",
      "Epoch 8: loss improved from 0.77667 to 0.76169, saving model to best_model.keras\n",
      "\u001b[1m196/196\u001b[0m \u001b[32m━━━━━━━━━━━━━━━━━━━━\u001b[0m\u001b[37m\u001b[0m \u001b[1m113s\u001b[0m 575ms/step - accuracy: 0.6618 - loss: 0.7667\n",
      "Epoch 9/20\n",
      "\u001b[1m196/196\u001b[0m \u001b[32m━━━━━━━━━━━━━━━━━━━━\u001b[0m\u001b[37m\u001b[0m \u001b[1m0s\u001b[0m 583ms/step - accuracy: 0.6629 - loss: 0.7582\n",
      "Epoch 9: loss improved from 0.76169 to 0.75380, saving model to best_model.keras\n",
      "\u001b[1m196/196\u001b[0m \u001b[32m━━━━━━━━━━━━━━━━━━━━\u001b[0m\u001b[37m\u001b[0m \u001b[1m114s\u001b[0m 583ms/step - accuracy: 0.6629 - loss: 0.7582\n",
      "Epoch 10/20\n",
      "\u001b[1m196/196\u001b[0m \u001b[32m━━━━━━━━━━━━━━━━━━━━\u001b[0m\u001b[37m\u001b[0m \u001b[1m0s\u001b[0m 576ms/step - accuracy: 0.6727 - loss: 0.7447\n",
      "Epoch 10: loss improved from 0.75380 to 0.74432, saving model to best_model.keras\n",
      "\u001b[1m196/196\u001b[0m \u001b[32m━━━━━━━━━━━━━━━━━━━━\u001b[0m\u001b[37m\u001b[0m \u001b[1m113s\u001b[0m 576ms/step - accuracy: 0.6727 - loss: 0.7447\n",
      "Epoch 11/20\n",
      "\u001b[1m196/196\u001b[0m \u001b[32m━━━━━━━━━━━━━━━━━━━━\u001b[0m\u001b[37m\u001b[0m \u001b[1m0s\u001b[0m 580ms/step - accuracy: 0.5852 - loss: 0.8627\n",
      "Epoch 11: loss did not improve from 0.74432\n",
      "\u001b[1m196/196\u001b[0m \u001b[32m━━━━━━━━━━━━━━━━━━━━\u001b[0m\u001b[37m\u001b[0m \u001b[1m114s\u001b[0m 580ms/step - accuracy: 0.5852 - loss: 0.8629\n",
      "Epoch 12/20\n",
      "\u001b[1m196/196\u001b[0m \u001b[32m━━━━━━━━━━━━━━━━━━━━\u001b[0m\u001b[37m\u001b[0m \u001b[1m0s\u001b[0m 578ms/step - accuracy: 0.6559 - loss: 0.7785\n",
      "Epoch 12: loss did not improve from 0.74432\n",
      "\u001b[1m196/196\u001b[0m \u001b[32m━━━━━━━━━━━━━━━━━━━━\u001b[0m\u001b[37m\u001b[0m \u001b[1m113s\u001b[0m 578ms/step - accuracy: 0.6560 - loss: 0.7784\n",
      "Epoch 13/20\n",
      "\u001b[1m196/196\u001b[0m \u001b[32m━━━━━━━━━━━━━━━━━━━━\u001b[0m\u001b[37m\u001b[0m \u001b[1m0s\u001b[0m 581ms/step - accuracy: 0.6697 - loss: 0.7516\n",
      "Epoch 13: loss improved from 0.74432 to 0.74294, saving model to best_model.keras\n",
      "\u001b[1m196/196\u001b[0m \u001b[32m━━━━━━━━━━━━━━━━━━━━\u001b[0m\u001b[37m\u001b[0m \u001b[1m114s\u001b[0m 582ms/step - accuracy: 0.6697 - loss: 0.7516\n",
      "Epoch 14/20\n",
      "\u001b[1m196/196\u001b[0m \u001b[32m━━━━━━━━━━━━━━━━━━━━\u001b[0m\u001b[37m\u001b[0m \u001b[1m0s\u001b[0m 584ms/step - accuracy: 0.6829 - loss: 0.7290\n",
      "Epoch 14: loss improved from 0.74294 to 0.73412, saving model to best_model.keras\n",
      "\u001b[1m196/196\u001b[0m \u001b[32m━━━━━━━━━━━━━━━━━━━━\u001b[0m\u001b[37m\u001b[0m \u001b[1m114s\u001b[0m 584ms/step - accuracy: 0.6829 - loss: 0.7291\n",
      "Epoch 15/20\n",
      "\u001b[1m196/196\u001b[0m \u001b[32m━━━━━━━━━━━━━━━━━━━━\u001b[0m\u001b[37m\u001b[0m \u001b[1m0s\u001b[0m 586ms/step - accuracy: 0.6904 - loss: 0.7163\n",
      "Epoch 15: loss improved from 0.73412 to 0.72265, saving model to best_model.keras\n",
      "\u001b[1m196/196\u001b[0m \u001b[32m━━━━━━━━━━━━━━━━━━━━\u001b[0m\u001b[37m\u001b[0m \u001b[1m115s\u001b[0m 586ms/step - accuracy: 0.6903 - loss: 0.7164\n",
      "Epoch 16/20\n",
      "\u001b[1m196/196\u001b[0m \u001b[32m━━━━━━━━━━━━━━━━━━━━\u001b[0m\u001b[37m\u001b[0m \u001b[1m0s\u001b[0m 582ms/step - accuracy: 0.6868 - loss: 0.7179\n",
      "Epoch 16: loss improved from 0.72265 to 0.71182, saving model to best_model.keras\n",
      "\u001b[1m196/196\u001b[0m \u001b[32m━━━━━━━━━━━━━━━━━━━━\u001b[0m\u001b[37m\u001b[0m \u001b[1m114s\u001b[0m 582ms/step - accuracy: 0.6868 - loss: 0.7179\n",
      "Epoch 17/20\n",
      "\u001b[1m196/196\u001b[0m \u001b[32m━━━━━━━━━━━━━━━━━━━━\u001b[0m\u001b[37m\u001b[0m \u001b[1m0s\u001b[0m 582ms/step - accuracy: 0.6892 - loss: 0.7103\n",
      "Epoch 17: loss improved from 0.71182 to 0.70655, saving model to best_model.keras\n",
      "\u001b[1m196/196\u001b[0m \u001b[32m━━━━━━━━━━━━━━━━━━━━\u001b[0m\u001b[37m\u001b[0m \u001b[1m114s\u001b[0m 582ms/step - accuracy: 0.6892 - loss: 0.7102\n",
      "Epoch 18/20\n",
      "\u001b[1m196/196\u001b[0m \u001b[32m━━━━━━━━━━━━━━━━━━━━\u001b[0m\u001b[37m\u001b[0m \u001b[1m0s\u001b[0m 580ms/step - accuracy: 0.6860 - loss: 0.7059\n",
      "Epoch 18: loss did not improve from 0.70655\n",
      "\u001b[1m196/196\u001b[0m \u001b[32m━━━━━━━━━━━━━━━━━━━━\u001b[0m\u001b[37m\u001b[0m \u001b[1m114s\u001b[0m 580ms/step - accuracy: 0.6859 - loss: 0.7060\n",
      "Epoch 19/20\n",
      "\u001b[1m196/196\u001b[0m \u001b[32m━━━━━━━━━━━━━━━━━━━━\u001b[0m\u001b[37m\u001b[0m \u001b[1m0s\u001b[0m 580ms/step - accuracy: 0.6505 - loss: 0.7820\n",
      "Epoch 19: loss did not improve from 0.70655\n",
      "\u001b[1m196/196\u001b[0m \u001b[32m━━━━━━━━━━━━━━━━━━━━\u001b[0m\u001b[37m\u001b[0m \u001b[1m114s\u001b[0m 580ms/step - accuracy: 0.6506 - loss: 0.7820\n",
      "Epoch 20/20\n",
      "\u001b[1m196/196\u001b[0m \u001b[32m━━━━━━━━━━━━━━━━━━━━\u001b[0m\u001b[37m\u001b[0m \u001b[1m0s\u001b[0m 586ms/step - accuracy: 0.6760 - loss: 0.7437\n",
      "Epoch 20: loss did not improve from 0.70655\n",
      "\u001b[1m196/196\u001b[0m \u001b[32m━━━━━━━━━━━━━━━━━━━━\u001b[0m\u001b[37m\u001b[0m \u001b[1m115s\u001b[0m 586ms/step - accuracy: 0.6760 - loss: 0.7437\n"
     ]
    }
   ],
   "source": [
    "# Define Callbacks\n",
    "early_stop = EarlyStopping(monitor='loss', patience=4, restore_best_weights=True)\n",
    "checkpoint = ModelCheckpoint('best_model.keras', monitor='loss', save_best_only=True, verbose=1)\n",
    "\n",
    "# Train the Model\n",
    "history = model.fit(X_train, y_train,\n",
    "                    epochs=20,\n",
    "                    batch_size=128,\n",
    "                    callbacks=[early_stop, checkpoint],\n",
    "                    verbose=1)"
   ]
  },
  {
   "cell_type": "markdown",
   "id": "2fce11a9",
   "metadata": {},
   "source": [
    "**Evaluate the model on test data**"
   ]
  },
  {
   "cell_type": "code",
   "execution_count": 30,
   "id": "fa65272b",
   "metadata": {},
   "outputs": [
    {
     "name": "stdout",
     "output_type": "stream",
     "text": [
      "\u001b[1m49/49\u001b[0m \u001b[32m━━━━━━━━━━━━━━━━━━━━\u001b[0m\u001b[37m\u001b[0m \u001b[1m9s\u001b[0m 173ms/step - accuracy: 0.6780 - loss: 0.7221\n",
      "Test Loss: 0.7235\n",
      "Test Accuracy: 0.6808\n"
     ]
    }
   ],
   "source": [
    "test_loss, test_accuracy = model.evaluate(X_test, y_test, batch_size=128)\n",
    "print(f\"Test Loss: {test_loss:.4f}\")\n",
    "print(f\"Test Accuracy: {test_accuracy:.4f}\")"
   ]
  },
  {
   "cell_type": "markdown",
   "id": "145e3c70",
   "metadata": {},
   "source": [
    "**Report accuracy, precision, recall, and F1-score**"
   ]
  },
  {
   "cell_type": "code",
   "execution_count": 31,
   "id": "80bba86d",
   "metadata": {},
   "outputs": [
    {
     "name": "stdout",
     "output_type": "stream",
     "text": [
      "\u001b[1m196/196\u001b[0m \u001b[32m━━━━━━━━━━━━━━━━━━━━\u001b[0m\u001b[37m\u001b[0m \u001b[1m21s\u001b[0m 104ms/step\n",
      "              precision    recall  f1-score   support\n",
      "\n",
      "     Class 0       0.68      0.64      0.66      1824\n",
      "     Class 1       0.62      0.64      0.63      2322\n",
      "     Class 2       0.75      0.76      0.75      2101\n",
      "\n",
      "    accuracy                           0.68      6247\n",
      "   macro avg       0.68      0.68      0.68      6247\n",
      "weighted avg       0.68      0.68      0.68      6247\n",
      "\n",
      "Accuracy: 0.6808\n",
      "Precision: 0.6811\n",
      "Recall: 0.6808\n",
      "F1-Score: 0.6807\n"
     ]
    }
   ],
   "source": [
    "y_pred = model.predict(X_test)\n",
    "y_pred_labels = np.argmax(y_pred, axis=1)\n",
    "\n",
    "report = classification_report(y_test, y_pred_labels, target_names=['Class 0', 'Class 1', 'Class 2'])\n",
    "print(report)\n",
    "\n",
    "accuracy = accuracy_score(y_test, y_pred_labels)\n",
    "precision = precision_score(y_test, y_pred_labels, average='weighted')\n",
    "recall = recall_score(y_test, y_pred_labels, average='weighted')\n",
    "f1 = f1_score(y_test, y_pred_labels, average='weighted')\n",
    "\n",
    "print(f\"Accuracy: {accuracy:.4f}\")\n",
    "print(f\"Precision: {precision:.4f}\")\n",
    "print(f\"Recall: {recall:.4f}\")\n",
    "print(f\"F1-Score: {f1:.4f}\")"
   ]
  },
  {
   "cell_type": "markdown",
   "id": "b694b402",
   "metadata": {},
   "source": [
    "**Visualizations**"
   ]
  },
  {
   "cell_type": "code",
   "execution_count": 32,
   "id": "b6f7e6d3",
   "metadata": {},
   "outputs": [
    {
     "data": {
      "image/png": "[encoded data removed]",
      "text/plain": [
       "<Figure size 1000x500 with 1 Axes>"
      ]
     },
     "metadata": {},
     "output_type": "display_data"
    },
    {
     "data": {
      "image/png": "[encoded data removed]",
      "text/plain": [
       "<Figure size 1000x500 with 1 Axes>"
      ]
     },
     "metadata": {},
     "output_type": "display_data"
    }
   ],
   "source": [
    "# Plot Training Loss\n",
    "plt.figure(figsize=(10, 5))\n",
    "plt.plot(history.history['loss'], label='Training Loss')\n",
    "plt.xlabel('Epochs')\n",
    "plt.ylabel('Loss')\n",
    "plt.title('Training Loss Over Epochs')\n",
    "plt.legend()\n",
    "plt.grid(True)\n",
    "plt.show()\n",
    "\n",
    "# Plot Training Accuracy\n",
    "plt.figure(figsize=(10, 5))\n",
    "plt.plot(history.history['accuracy'], label='Training Accuracy')\n",
    "plt.xlabel('Epochs')\n",
    "plt.ylabel('Accuracy')\n",
    "plt.title('Training Accuracy Over Epochs')\n",
    "plt.legend()\n",
    "plt.grid(True)\n",
    "plt.show()"
   ]
  }
 ],
 "metadata": {
  "kernelspec": {
   "display_name": "Python 3 (ipykernel)",
   "language": "python",
   "name": "python3"
  },
  "language_info": {
   "codemirror_mode": {
    "name": "ipython",
    "version": 3
   },
   "file_extension": ".py",
   "mimetype": "text/x-python",
   "name": "python",
   "nbconvert_exporter": "python",
   "pygments_lexer": "ipython3",
   "version": "3.11.7"
  }
 },
 "nbformat": 4,
 "nbformat_minor": 5
}
