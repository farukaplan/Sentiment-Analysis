{
 "cells": [
  {
   "cell_type": "markdown",
   "id": "a95930d5",
   "metadata": {},
   "source": [
    "# Sentiment Analysis Using Deep Learning\n",
    "---"
   ]
  },
  {
   "cell_type": "markdown",
   "id": "0ec538c7",
   "metadata": {},
   "source": [
    "## 1. Data Preprocessing"
   ]
  },
  {
   "cell_type": "markdown",
   "id": "71fdc0e9",
   "metadata": {},
   "source": [
    "Firstly, let's import the dataset"
   ]
  },
  {
   "cell_type": "code",
   "execution_count": 1,
   "id": "f1527c1b",
   "metadata": {},
   "outputs": [],
   "source": [
    "import pandas as pd\n",
    "import os"
   ]
  },
  {
   "cell_type": "code",
   "execution_count": 2,
   "id": "566abb49",
   "metadata": {},
   "outputs": [
    {
     "name": "stdout",
     "output_type": "stream",
     "text": [
      "Dataset loaded successfully!\n",
      "      id                                               text  label sentiment\n",
      "0   9536                    Cooking microwave pizzas, yummy      2  positive\n",
      "1   6135  Any plans of allowing sub tasks to show up in ...      1   neutral\n",
      "2  17697   I love the humor, I just reworded it. Like sa...      2  positive\n",
      "3  14182                       naw idk what ur talkin about      1   neutral\n",
      "4  17840          That sucks to hear. I hate days like that      0  negative\n"
     ]
    }
   ],
   "source": [
    "dataset_path = 'ENG_SA_Dataset.csv'\n",
    "\n",
    "if os.path.exists(dataset_path):\n",
    "    data = pd.read_csv(dataset_path)\n",
    "    \n",
    "    print(\"Dataset loaded successfully!\")\n",
    "    print(data.head())\n",
    "else:\n",
    "    print(f\"File not found at {dataset_path}. Please check the path and try again.\")"
   ]
  },
  {
   "cell_type": "markdown",
   "id": "b6a0f847",
   "metadata": {},
   "source": [
    "**1) Contraction Expansion (cont_exp)**\n",
    "- Expand contractions in the text (e.g., \"don't\" → \"do not\")\n",
    "- Use appropriate contraction mapping dictionary"
   ]
  },
  {
   "cell_type": "markdown",
   "id": "0a88d36b",
   "metadata": {},
   "source": [
    "We'll create a contraction mapping dictionary that maps contractions to their expanded forms. Then, we'll define a function to replace contractions in the text based on this dictionary."
   ]
  },
  {
   "cell_type": "code",
   "execution_count": 3,
   "id": "a20b7476",
   "metadata": {},
   "outputs": [],
   "source": [
    "import re"
   ]
  },
  {
   "cell_type": "markdown",
   "id": "e0f57c5c",
   "metadata": {},
   "source": [
    "Defining the dictionary"
   ]
  },
  {
   "cell_type": "code",
   "execution_count": 4,
   "id": "10a120ab",
   "metadata": {},
   "outputs": [],
   "source": [
    "import contractions"
   ]
  },
  {
   "cell_type": "markdown",
   "id": "e3fe9862",
   "metadata": {},
   "source": [
    "We'll create a function that uses regular expressions to find contractions in the text and replace them with their expanded forms based on the dictionary."
   ]
  },
  {
   "cell_type": "code",
   "execution_count": 5,
   "id": "1e3a024d",
   "metadata": {},
   "outputs": [],
   "source": [
    "data['text'] = data['text'].str.replace('`', \"'\", regex=False)"
   ]
  },
  {
   "cell_type": "code",
   "execution_count": 6,
   "id": "eae199bb",
   "metadata": {},
   "outputs": [
    {
     "name": "stdout",
     "output_type": "stream",
     "text": [
      "                                                 text  \\\n",
      "0                     Cooking microwave pizzas, yummy   \n",
      "1   Any plans of allowing sub tasks to show up in ...   \n",
      "2    I love the humor, I just reworded it. Like sa...   \n",
      "3                        naw idk what ur talkin about   \n",
      "4           That sucks to hear. I hate days like that   \n",
      "5    Umm yeah. That's probably a pretty good note ...   \n",
      "6                               whatever do you mean?   \n",
      "7    That would panic me a little!  Maybe you can ...   \n",
      "8                Is sad when people's phones are dead   \n",
      "9                                           sad face.   \n",
      "10  In cafe management, the end of the month is no...   \n",
      "11  Basically I've listened to Miley Cyrus for fou...   \n",
      "12   what did you think of the finale?  I thought ...   \n",
      "13   I think that boat sailed my friend... The few...   \n",
      "14  Gave my mommy her Mother's Day present. Ticket...   \n",
      "15  Installed office for Mac & messed up all my fo...   \n",
      "16                                  You're welcome...   \n",
      "17  Ok so I'm **** hungry....!  I'm fat I know..I ...   \n",
      "18  Early monday cramming... yay. Only a few weeks...   \n",
      "19  ok its FF soooo why isn't anyone following MEE...   \n",
      "20                                     Has Ruth today   \n",
      "21  (bye) plurk out muna. will be back when im don...   \n",
      "22                        gonna have a lazy day today   \n",
      "23                                        I am tired.   \n",
      "24       http://twitpic.com/3ernb - Loving The Jumper   \n",
      "25  _NZ busy,fun mother's day thanks  got what I w...   \n",
      "26  This app is just great, it not only reminds me...   \n",
      "27                                     Still at work.   \n",
      "28                             _by_spork we shall see   \n",
      "29  Guess I'm gonna try the nap thing again 2day, ...   \n",
      "30  odd i tried to call mitchel musso but it dosen...   \n",
      "31                         LUCY IS HATING ON MY GWEG!   \n",
      "32    Ah  sameway Yet, has 2006 votes ((.We need m...   \n",
      "33                             @_missrachel how much?   \n",
      "34  shall bring his own glass to work from tonight...   \n",
      "35  Not as useful as Wunderlist... Yet!! Would pre...   \n",
      "36        () UGH, i love tila. haters need to shut up   \n",
      "37  Wow - the dude said I was better than Bobbi Le...   \n",
      "38                              oh no  say it aint so   \n",
      "39      Great planning app, reliable and easy to use.   \n",
      "40                                is chilling at home   \n",
      "41  I hope that they could have an alarm after the...   \n",
      "42  Helpful to visualize recurring events on Googl...   \n",
      "43  yep... i think i might have just made the deci...   \n",
      "44                        was jst out there wednesday   \n",
      "45                      Could get  to do the honours?   \n",
      "46         yeah... it's gonna be a long while for me.   \n",
      "47             waking now, so lazy and very worry ...   \n",
      "48   hehe i will never thorw out these shoes  i'm ...   \n",
      "49                        thanks dinno  appreciate it   \n",
      "\n",
      "                                        text_expanded  \n",
      "0                     Cooking microwave pizzas, yummy  \n",
      "1   Any plans of allowing sub tasks to show up in ...  \n",
      "2    I love the humor, I just reworded it. Like sa...  \n",
      "3         naw i do not know what you are talkin about  \n",
      "4           That sucks to hear. I hate days like that  \n",
      "5    Umm yeah. That is probably a pretty good note...  \n",
      "6                               whatever do you mean?  \n",
      "7    That would panic me a little!  Maybe you can ...  \n",
      "8                Is sad when people's phones are dead  \n",
      "9                                           sad face.  \n",
      "10  In cafe management, the end of the month is no...  \n",
      "11  Basically I have listened to Miley Cyrus for f...  \n",
      "12   what did you think of the finale?  I thought ...  \n",
      "13   I think that boat sailed my friend... The few...  \n",
      "14  Gave my mommy her Mother's Day present. Ticket...  \n",
      "15  Installed office for Mac & messed up all my fo...  \n",
      "16                                 You are welcome...  \n",
      "17  Ok so I am **** hungry....!  I am fat I know.....  \n",
      "18  Early monday cramming... yay. Only a few weeks...  \n",
      "19  ok its FF soooo why is not anyone following ME...  \n",
      "20                                     Has Ruth today  \n",
      "21  (bye) plurk out muna. will be back when i am d...  \n",
      "22                     going to have a lazy day today  \n",
      "23                                        I am tired.  \n",
      "24       http://twitpic.com/3ernb - Loving The Jumper  \n",
      "25  _NZ busy,fun mother's day thanks  got what I w...  \n",
      "26  This app is just great, it not only reminds me...  \n",
      "27                                     Still at work.  \n",
      "28                             _by_spork we shall see  \n",
      "29  Guess I am going to try the nap thing again 2d...  \n",
      "30  odd i tried to call mitchel musso but it dosen...  \n",
      "31                         LUCY IS HATING ON MY GWEG!  \n",
      "32    Ah  sameway Yet, has 2006 votes ((.We need m...  \n",
      "33                             @_missrachel how much?  \n",
      "34  shall bring his own glass to work from tonight...  \n",
      "35  Not as useful as Wunderlist... Yet!! Would pre...  \n",
      "36        () UGH, i love tila. haters need to shut up  \n",
      "37  Wow - the dude said I was better than Bobbi Le...  \n",
      "38                           oh no  say it are not so  \n",
      "39      Great planning app, reliable and easy to use.  \n",
      "40                                is chilling at home  \n",
      "41  I hope that they could have an alarm after the...  \n",
      "42  Helpful to visualize recurring events on Googl...  \n",
      "43  yep... i think i might have just made the deci...  \n",
      "44                        was jst out there wednesday  \n",
      "45                      Could get  to do the honours?  \n",
      "46     yeah... it is going to be a long while for me.  \n",
      "47             waking now, so lazy and very worry ...  \n",
      "48   hehe i will never thorw out these shoes  i am...  \n",
      "49                        thanks dinno  appreciate it  \n"
     ]
    }
   ],
   "source": [
    "import contractions\n",
    "\n",
    "# Function to expand contractions using the contractions library\n",
    "def expand_contractions_lib(text):\n",
    "    if not isinstance(text, str):\n",
    "        return text\n",
    "    return contractions.fix(text)\n",
    "\n",
    "# Apply the function to create a new 'text_expanded' column\n",
    "data['text_expanded'] = data['text'].apply(expand_contractions_lib)\n",
    "\n",
    "# Verify the expansion\n",
    "print(data[['text', 'text_expanded']].head(50))"
   ]
  },
  {
   "cell_type": "markdown",
   "id": "d401289d",
   "metadata": {},
   "source": [
    "Before applying the function to the entire dataset, let's test it with a few examples to ensure it works as expected."
   ]
  },
  {
   "cell_type": "code",
   "execution_count": 7,
   "id": "b30a7967",
   "metadata": {},
   "outputs": [
    {
     "name": "stdout",
     "output_type": "stream",
     "text": [
      "Original: I don't like this movie.\n",
      "Expanded: I do not like this movie.\n",
      "\n",
      "Original: She's going to the market.\n",
      "Expanded: She is going to the market.\n",
      "\n",
      "Original: They're not coming tonight.\n",
      "Expanded: They are not coming tonight.\n",
      "\n",
      "Original: Can't wait to see you!\n",
      "Expanded: Cannot wait to see you!\n",
      "\n",
      "Original: He's been there before.\n",
      "Expanded: He is been there before.\n",
      "\n"
     ]
    }
   ],
   "source": [
    "# Sample texts\n",
    "sample_texts = [\n",
    "    \"I don't like this movie.\",\n",
    "    \"She's going to the market.\",\n",
    "    \"They're not coming tonight.\",\n",
    "    \"Can't wait to see you!\",\n",
    "    \"He's been there before.\"\n",
    "]\n",
    "\n",
    "# Expand contractions in sample texts\n",
    "for text in sample_texts:\n",
    "    expanded = expand_contractions_lib(text)\n",
    "    print(f\"Original: {text}\")\n",
    "    print(f\"Expanded: {expanded}\\n\")\n"
   ]
  },
  {
   "cell_type": "markdown",
   "id": "a36dcc4c",
   "metadata": {},
   "source": [
    "Now let's apply it to our original dataset"
   ]
  },
  {
   "cell_type": "code",
   "execution_count": 8,
   "id": "9644b415",
   "metadata": {},
   "outputs": [
    {
     "name": "stdout",
     "output_type": "stream",
     "text": [
      "      id                                               text  \\\n",
      "0   9536                    Cooking microwave pizzas, yummy   \n",
      "1   6135  Any plans of allowing sub tasks to show up in ...   \n",
      "2  17697   I love the humor, I just reworded it. Like sa...   \n",
      "3  14182                       naw idk what ur talkin about   \n",
      "4  17840          That sucks to hear. I hate days like that   \n",
      "\n",
      "                                       text_expanded  label sentiment  \n",
      "0                    Cooking microwave pizzas, yummy      2  positive  \n",
      "1  Any plans of allowing sub tasks to show up in ...      1   neutral  \n",
      "2   I love the humor, I just reworded it. Like sa...      2  positive  \n",
      "3        naw i do not know what you are talkin about      1   neutral  \n",
      "4          That sucks to hear. I hate days like that      0  negative  \n"
     ]
    }
   ],
   "source": [
    "# Display sample data\n",
    "print(data[['id', 'text', 'text_expanded', 'label', 'sentiment']].head())\n",
    "\n",
    "# Check for any anomalies or unexpected changes\n",
    "# For example, ensure that the number of rows remains the same\n",
    "assert len(data['text']) == len(data['text_expanded']), \"Row counts do not match after expansion.\""
   ]
  },
  {
   "cell_type": "markdown",
   "id": "6792b3d4",
   "metadata": {},
   "source": [
    "**2. E-mail removal**"
   ]
  },
  {
   "cell_type": "markdown",
   "id": "3aeb5397",
   "metadata": {},
   "source": [
    "Email addresses can appear in text data in various formats, such as:\n",
    "- example@example.com\n",
    "- user.name+tag+sorting@example.co.uk\n",
    "- user_name@example-domain.com\n",
    "\n",
    "Our goal is to identify these patterns and remove them from the text data. We'll use regular expressions (regex), which are powerful tools for pattern matching and text manipulation\n",
    "\n",
    "Common e-mail pattern in regex:\n",
    "\\b[A-Za-z0-9._%+-]+@[A-Za-z0-9.-]+\\.[A-Za-z]{2,}\\b"
   ]
  },
  {
   "cell_type": "code",
   "execution_count": 9,
   "id": "8f2db92e",
   "metadata": {},
   "outputs": [],
   "source": [
    "email_pattern = r'\\b[A-Za-z0-9._%+-]+@[A-Za-z0-9.-]+\\.[A-Za-z]{2,}\\b'\n",
    "# Regex pattern for Twitter handles (e.g., @username)\n",
    "handle_pattern = r'@\\w+'\n",
    "# Combined regex pattern to match both emails and Twitter handles\n",
    "combined_pattern = f'({email_pattern})|({handle_pattern})'"
   ]
  },
  {
   "cell_type": "code",
   "execution_count": 10,
   "id": "5380ae50",
   "metadata": {},
   "outputs": [],
   "source": [
    "def remove_emails_and_handles(text):\n",
    "    \"\"\"\n",
    "    Remove all email addresses and Twitter handles from the given text using regex.\n",
    "\n",
    "    Args:\n",
    "        text (str): The input text from which to remove email addresses and handles.\n",
    "\n",
    "    Returns:\n",
    "        str: The text with email addresses and handles removed.\n",
    "    \"\"\"\n",
    "    if not isinstance(text, str):\n",
    "        return text  # Return the original text if it's not a string\n",
    "    # Remove email addresses\n",
    "    text = re.sub(email_pattern, '', text)\n",
    "    # Remove Twitter handles\n",
    "    text = re.sub(handle_pattern, '', text)\n",
    "    # Optionally, remove extra spaces resulting from the removals\n",
    "    text = re.sub(r'\\s+', ' ', text).strip()\n",
    "    return text\n"
   ]
  },
  {
   "cell_type": "code",
   "execution_count": 11,
   "id": "fe8f8516",
   "metadata": {},
   "outputs": [],
   "source": [
    "# Apply the remove_emails function to the 'text_expanded' column\n",
    "data['text_no_emails'] = data['text_expanded'].apply(remove_emails_and_handles)"
   ]
  },
  {
   "cell_type": "code",
   "execution_count": 12,
   "id": "d318b743",
   "metadata": {},
   "outputs": [
    {
     "name": "stdout",
     "output_type": "stream",
     "text": [
      "31152     well you scared me saying there may be rustli...\n",
      "31153    classic SNL digital short tonight! Be my mothe...\n",
      "31154           Kewl Sounds good. Will wait for it. Thanks\n",
      "31155     heyyy you ALWAYS look nice  want to come to m...\n",
      "31156     oh ok  good ... now i will jump for joy! M, y...\n",
      "                               ...                        \n",
      "31227     Grrrr....I got the wrong size coat for the sheep\n",
      "31228                                4 cases of swine flu!\n",
      "31229                                            excellent\n",
      "31230    is sitting thru the boring bits in Titanic wai...\n",
      "31231                                      Missed the play\n",
      "Name: text_expanded, Length: 80, dtype: object\n",
      "31152    well you scared me saying there may be rustlin...\n",
      "31153    classic SNL digital short tonight! Be my mothe...\n",
      "31154           Kewl Sounds good. Will wait for it. Thanks\n",
      "31155    heyyy you ALWAYS look nice want to come to my ...\n",
      "31156    oh ok good ... now i will jump for joy! M, you...\n",
      "                               ...                        \n",
      "31227     Grrrr....I got the wrong size coat for the sheep\n",
      "31228                                4 cases of swine flu!\n",
      "31229                                            excellent\n",
      "31230    is sitting thru the boring bits in Titanic wai...\n",
      "31231                                      Missed the play\n",
      "Name: text_no_emails, Length: 80, dtype: object\n"
     ]
    }
   ],
   "source": [
    "# Display the first 10 rows to verify\n",
    "print(data['text_expanded'].tail(80))\n",
    "print(data['text_no_emails'].tail(80))"
   ]
  },
  {
   "cell_type": "code",
   "execution_count": 14,
   "id": "d90e5ac4",
   "metadata": {},
   "outputs": [
    {
     "name": "stdout",
     "output_type": "stream",
     "text": [
      "Number of rows with remaining email addresses: 0\n",
      "Number of rows with remaining Twitter handles: 0\n"
     ]
    }
   ],
   "source": [
    "# Check for remaining email addresses\n",
    "remaining_emails = data[data['text_no_emails'].str.contains(email_pattern, case=False, na=False)].index.tolist()\n",
    "print(f\"Number of rows with remaining email addresses: {len(remaining_emails)}\")\n",
    "\n",
    "# Check for remaining Twitter handles\n",
    "remaining_handles = data[data['text_no_emails'].str.contains(handle_pattern, case=False, na=False)].index.tolist()\n",
    "print(f\"Number of rows with remaining Twitter handles: {len(remaining_handles)}\")\n"
   ]
  },
  {
   "cell_type": "markdown",
   "id": "d7cd1468",
   "metadata": {},
   "source": [
    "**3. URL Removal (remove_urls)**"
   ]
  },
  {
   "cell_type": "code",
   "execution_count": 19,
   "id": "ed583bf6",
   "metadata": {},
   "outputs": [],
   "source": [
    "url_pattern = r'http[s]?://(?:[a-zA-Z]|[0-9]|[$-_@.&+]|[!*\\(\\),]|(?:%[0-9a-fA-F][0-9a-fA-F]))+|www\\.(?:[a-zA-Z]|[0-9]|[$-_@.&+]|[!*\\(\\),]|(?:%[0-9a-fA-F][0-9a-fA-F]))+'\n",
    "\n",
    "def remove_urls(text):\n",
    "    \"\"\"\n",
    "    Remove all URLs and trailing punctuation from the given text using regex.\n",
    "\n",
    "    Args:\n",
    "        text (str): The input text from which to remove URLs.\n",
    "\n",
    "    Returns:\n",
    "        str: The text with URLs and trailing punctuation removed.\n",
    "    \"\"\"\n",
    "    if not isinstance(text, str):\n",
    "        return text  # Return the original text if it's not a string\n",
    "    # Remove URLs\n",
    "    text = re.sub(url_pattern, '', text)\n",
    "    # Remove extra spaces and trailing punctuation\n",
    "    text = re.sub(r'\\s+', ' ', text).strip()\n",
    "    return text\n",
    "\n",
    "\n"
   ]
  },
  {
   "cell_type": "code",
   "execution_count": 20,
   "id": "ae175df5",
   "metadata": {},
   "outputs": [
    {
     "name": "stdout",
     "output_type": "stream",
     "text": [
      "                                       text_no_emails  \\\n",
      "0                     Cooking microwave pizzas, yummy   \n",
      "1   Any plans of allowing sub tasks to show up in ...   \n",
      "2   I love the humor, I just reworded it. Like say...   \n",
      "3         naw i do not know what you are talkin about   \n",
      "4           That sucks to hear. I hate days like that   \n",
      "5   Umm yeah. That is probably a pretty good note ...   \n",
      "6                               whatever do you mean?   \n",
      "7   That would panic me a little! Maybe you can re...   \n",
      "8                Is sad when people's phones are dead   \n",
      "9                                           sad face.   \n",
      "10  In cafe management, the end of the month is no...   \n",
      "11  Basically I have listened to Miley Cyrus for f...   \n",
      "12  what did you think of the finale? I thought it...   \n",
      "13  I think that boat sailed my friend... The few ...   \n",
      "14  Gave my mommy her Mother's Day present. Ticket...   \n",
      "15  Installed office for Mac & messed up all my fo...   \n",
      "16                                 You are welcome...   \n",
      "17  Ok so I am **** hungry....! I am fat I know..I...   \n",
      "18  Early monday cramming... yay. Only a few weeks...   \n",
      "19  ok its FF soooo why is not anyone following ME...   \n",
      "20                                     Has Ruth today   \n",
      "21  (bye) plurk out muna. will be back when i am d...   \n",
      "22                     going to have a lazy day today   \n",
      "23                                        I am tired.   \n",
      "24       http://twitpic.com/3ernb - Loving The Jumper   \n",
      "25  _NZ busy,fun mother's day thanks got what I wa...   \n",
      "26  This app is just great, it not only reminds me...   \n",
      "27                                     Still at work.   \n",
      "28                             _by_spork we shall see   \n",
      "29  Guess I am going to try the nap thing again 2d...   \n",
      "30  odd i tried to call mitchel musso but it dosen...   \n",
      "31                         LUCY IS HATING ON MY GWEG!   \n",
      "32  Ah sameway Yet, has 2006 votes ((.We need more...   \n",
      "33                                          how much?   \n",
      "34  shall bring his own glass to work from tonight...   \n",
      "35  Not as useful as Wunderlist... Yet!! Would pre...   \n",
      "36        () UGH, i love tila. haters need to shut up   \n",
      "37  Wow - the dude said I was better than Bobbi Le...   \n",
      "38                            oh no say it are not so   \n",
      "39      Great planning app, reliable and easy to use.   \n",
      "40                                is chilling at home   \n",
      "41  I hope that they could have an alarm after the...   \n",
      "42  Helpful to visualize recurring events on Googl...   \n",
      "43  yep... i think i might have just made the deci...   \n",
      "44                        was jst out there wednesday   \n",
      "45                       Could get to do the honours?   \n",
      "46     yeah... it is going to be a long while for me.   \n",
      "47             waking now, so lazy and very worry ...   \n",
      "48  hehe i will never thorw out these shoes i am l...   \n",
      "49                         thanks dinno appreciate it   \n",
      "\n",
      "                                         text_no_urls  \n",
      "0                     Cooking microwave pizzas, yummy  \n",
      "1   Any plans of allowing sub tasks to show up in ...  \n",
      "2   I love the humor, I just reworded it. Like say...  \n",
      "3         naw i do not know what you are talkin about  \n",
      "4           That sucks to hear. I hate days like that  \n",
      "5   Umm yeah. That is probably a pretty good note ...  \n",
      "6                               whatever do you mean?  \n",
      "7   That would panic me a little! Maybe you can re...  \n",
      "8                Is sad when people's phones are dead  \n",
      "9                                           sad face.  \n",
      "10  In cafe management, the end of the month is no...  \n",
      "11  Basically I have listened to Miley Cyrus for f...  \n",
      "12  what did you think of the finale? I thought it...  \n",
      "13  I think that boat sailed my friend... The few ...  \n",
      "14  Gave my mommy her Mother's Day present. Ticket...  \n",
      "15  Installed office for Mac & messed up all my fo...  \n",
      "16                                 You are welcome...  \n",
      "17  Ok so I am **** hungry....! I am fat I know..I...  \n",
      "18  Early monday cramming... yay. Only a few weeks...  \n",
      "19  ok its FF soooo why is not anyone following ME...  \n",
      "20                                     Has Ruth today  \n",
      "21  (bye) plurk out muna. will be back when i am d...  \n",
      "22                     going to have a lazy day today  \n",
      "23                                        I am tired.  \n",
      "24                                - Loving The Jumper  \n",
      "25  _NZ busy,fun mother's day thanks got what I wa...  \n",
      "26  This app is just great, it not only reminds me...  \n",
      "27                                     Still at work.  \n",
      "28                             _by_spork we shall see  \n",
      "29  Guess I am going to try the nap thing again 2d...  \n",
      "30  odd i tried to call mitchel musso but it dosen...  \n",
      "31                         LUCY IS HATING ON MY GWEG!  \n",
      "32  Ah sameway Yet, has 2006 votes ((.We need more...  \n",
      "33                                          how much?  \n",
      "34  shall bring his own glass to work from tonight...  \n",
      "35  Not as useful as Wunderlist... Yet!! Would pre...  \n",
      "36        () UGH, i love tila. haters need to shut up  \n",
      "37  Wow - the dude said I was better than Bobbi Le...  \n",
      "38                            oh no say it are not so  \n",
      "39      Great planning app, reliable and easy to use.  \n",
      "40                                is chilling at home  \n",
      "41  I hope that they could have an alarm after the...  \n",
      "42  Helpful to visualize recurring events on Googl...  \n",
      "43  yep... i think i might have just made the deci...  \n",
      "44                        was jst out there wednesday  \n",
      "45                       Could get to do the honours?  \n",
      "46     yeah... it is going to be a long while for me.  \n",
      "47             waking now, so lazy and very worry ...  \n",
      "48  hehe i will never thorw out these shoes i am l...  \n",
      "49                         thanks dinno appreciate it  \n"
     ]
    }
   ],
   "source": [
    "# Apply the remove_urls function to the 'text_cleaned' column\n",
    "data['text_no_urls'] = data['text_no_emails'].apply(remove_urls)\n",
    "\n",
    "# Display the first few rows to verify\n",
    "print(data[['text_no_emails', 'text_no_urls']].head(50))"
   ]
  },
  {
   "cell_type": "code",
   "execution_count": 21,
   "id": "95f910e9",
   "metadata": {},
   "outputs": [
    {
     "name": "stdout",
     "output_type": "stream",
     "text": [
      "Number of rows with URLs before cleaning: 1199\n",
      "Number of rows with remaining URLs after cleaning: 1\n",
      "                                       text_no_emails  \\\n",
      "0                     Cooking microwave pizzas, yummy   \n",
      "1   Any plans of allowing sub tasks to show up in ...   \n",
      "2   I love the humor, I just reworded it. Like say...   \n",
      "3         naw i do not know what you are talkin about   \n",
      "4           That sucks to hear. I hate days like that   \n",
      "5   Umm yeah. That is probably a pretty good note ...   \n",
      "6                               whatever do you mean?   \n",
      "7   That would panic me a little! Maybe you can re...   \n",
      "8                Is sad when people's phones are dead   \n",
      "9                                           sad face.   \n",
      "10  In cafe management, the end of the month is no...   \n",
      "11  Basically I have listened to Miley Cyrus for f...   \n",
      "12  what did you think of the finale? I thought it...   \n",
      "13  I think that boat sailed my friend... The few ...   \n",
      "14  Gave my mommy her Mother's Day present. Ticket...   \n",
      "15  Installed office for Mac & messed up all my fo...   \n",
      "16                                 You are welcome...   \n",
      "17  Ok so I am **** hungry....! I am fat I know..I...   \n",
      "18  Early monday cramming... yay. Only a few weeks...   \n",
      "19  ok its FF soooo why is not anyone following ME...   \n",
      "20                                     Has Ruth today   \n",
      "21  (bye) plurk out muna. will be back when i am d...   \n",
      "22                     going to have a lazy day today   \n",
      "23                                        I am tired.   \n",
      "24       http://twitpic.com/3ernb - Loving The Jumper   \n",
      "25  _NZ busy,fun mother's day thanks got what I wa...   \n",
      "26  This app is just great, it not only reminds me...   \n",
      "27                                     Still at work.   \n",
      "28                             _by_spork we shall see   \n",
      "29  Guess I am going to try the nap thing again 2d...   \n",
      "30  odd i tried to call mitchel musso but it dosen...   \n",
      "31                         LUCY IS HATING ON MY GWEG!   \n",
      "32  Ah sameway Yet, has 2006 votes ((.We need more...   \n",
      "33                                          how much?   \n",
      "34  shall bring his own glass to work from tonight...   \n",
      "35  Not as useful as Wunderlist... Yet!! Would pre...   \n",
      "36        () UGH, i love tila. haters need to shut up   \n",
      "37  Wow - the dude said I was better than Bobbi Le...   \n",
      "38                            oh no say it are not so   \n",
      "39      Great planning app, reliable and easy to use.   \n",
      "40                                is chilling at home   \n",
      "41  I hope that they could have an alarm after the...   \n",
      "42  Helpful to visualize recurring events on Googl...   \n",
      "43  yep... i think i might have just made the deci...   \n",
      "44                        was jst out there wednesday   \n",
      "45                       Could get to do the honours?   \n",
      "46     yeah... it is going to be a long while for me.   \n",
      "47             waking now, so lazy and very worry ...   \n",
      "48  hehe i will never thorw out these shoes i am l...   \n",
      "49                         thanks dinno appreciate it   \n",
      "\n",
      "                                         text_no_urls  \n",
      "0                     Cooking microwave pizzas, yummy  \n",
      "1   Any plans of allowing sub tasks to show up in ...  \n",
      "2   I love the humor, I just reworded it. Like say...  \n",
      "3         naw i do not know what you are talkin about  \n",
      "4           That sucks to hear. I hate days like that  \n",
      "5   Umm yeah. That is probably a pretty good note ...  \n",
      "6                               whatever do you mean?  \n",
      "7   That would panic me a little! Maybe you can re...  \n",
      "8                Is sad when people's phones are dead  \n",
      "9                                           sad face.  \n",
      "10  In cafe management, the end of the month is no...  \n",
      "11  Basically I have listened to Miley Cyrus for f...  \n",
      "12  what did you think of the finale? I thought it...  \n",
      "13  I think that boat sailed my friend... The few ...  \n",
      "14  Gave my mommy her Mother's Day present. Ticket...  \n",
      "15  Installed office for Mac & messed up all my fo...  \n",
      "16                                 You are welcome...  \n",
      "17  Ok so I am **** hungry....! I am fat I know..I...  \n",
      "18  Early monday cramming... yay. Only a few weeks...  \n",
      "19  ok its FF soooo why is not anyone following ME...  \n",
      "20                                     Has Ruth today  \n",
      "21  (bye) plurk out muna. will be back when i am d...  \n",
      "22                     going to have a lazy day today  \n",
      "23                                        I am tired.  \n",
      "24                                - Loving The Jumper  \n",
      "25  _NZ busy,fun mother's day thanks got what I wa...  \n",
      "26  This app is just great, it not only reminds me...  \n",
      "27                                     Still at work.  \n",
      "28                             _by_spork we shall see  \n",
      "29  Guess I am going to try the nap thing again 2d...  \n",
      "30  odd i tried to call mitchel musso but it dosen...  \n",
      "31                         LUCY IS HATING ON MY GWEG!  \n",
      "32  Ah sameway Yet, has 2006 votes ((.We need more...  \n",
      "33                                          how much?  \n",
      "34  shall bring his own glass to work from tonight...  \n",
      "35  Not as useful as Wunderlist... Yet!! Would pre...  \n",
      "36        () UGH, i love tila. haters need to shut up  \n",
      "37  Wow - the dude said I was better than Bobbi Le...  \n",
      "38                            oh no say it are not so  \n",
      "39      Great planning app, reliable and easy to use.  \n",
      "40                                is chilling at home  \n",
      "41  I hope that they could have an alarm after the...  \n",
      "42  Helpful to visualize recurring events on Googl...  \n",
      "43  yep... i think i might have just made the deci...  \n",
      "44                        was jst out there wednesday  \n",
      "45                       Could get to do the honours?  \n",
      "46     yeah... it is going to be a long while for me.  \n",
      "47             waking now, so lazy and very worry ...  \n",
      "48  hehe i will never thorw out these shoes i am l...  \n",
      "49                         thanks dinno appreciate it  \n"
     ]
    }
   ],
   "source": [
    "# Identify rows that originally contained URLs\n",
    "rows_with_urls = data[data['text_no_emails'].str.contains(url_pattern, case=False, na=False)].index.tolist()\n",
    "\n",
    "print(f\"Number of rows with URLs before cleaning: {len(rows_with_urls)}\")\n",
    "\n",
    "# Verify that URLs have been removed in 'text_no_urls'\n",
    "remaining_urls = data[data['text_no_urls'].str.contains(url_pattern, case=False, na=False)].index.tolist()\n",
    "print(f\"Number of rows with remaining URLs after cleaning: {len(remaining_urls)}\")\n",
    "\n",
    "# Display some cleaned data\n",
    "print(data[['text_no_emails', 'text_no_urls']].head(50))\n"
   ]
  },
  {
   "cell_type": "markdown",
   "id": "48ac942f",
   "metadata": {},
   "source": [
    "**4. Special characters removal**"
   ]
  },
  {
   "cell_type": "code",
   "execution_count": 27,
   "id": "71e43217",
   "metadata": {},
   "outputs": [],
   "source": [
    "special_char_pattern = r'[^A-Za-z\\s]'\n",
    "\n",
    "def remove_special_chars(text):\n",
    "    \"\"\"\n",
    "    Remove all special characters and numbers from the given text, keeping only alphabetic characters and spaces.\n",
    "\n",
    "    Args:\n",
    "        text (str): The input text from which to remove special characters and numbers.\n",
    "\n",
    "    Returns:\n",
    "        str: The cleaned text with only alphabetic characters and spaces.\n",
    "    \"\"\"\n",
    "    if not isinstance(text, str):\n",
    "        return text  # Return the original text if it's not a string\n",
    "    # Remove special characters and numbers\n",
    "    cleaned_text = re.sub(special_char_pattern, '', text)\n",
    "    # Remove any extra spaces resulting from the removal\n",
    "    cleaned_text = re.sub(r'\\s+', ' ', cleaned_text).strip()\n",
    "    return cleaned_text"
   ]
  },
  {
   "cell_type": "code",
   "execution_count": 28,
   "id": "2a44688b",
   "metadata": {},
   "outputs": [
    {
     "name": "stdout",
     "output_type": "stream",
     "text": [
      "                                         text_no_urls  \\\n",
      "0                     Cooking microwave pizzas, yummy   \n",
      "1   Any plans of allowing sub tasks to show up in ...   \n",
      "2   I love the humor, I just reworded it. Like say...   \n",
      "3         naw i do not know what you are talkin about   \n",
      "4           That sucks to hear. I hate days like that   \n",
      "5   Umm yeah. That is probably a pretty good note ...   \n",
      "6                               whatever do you mean?   \n",
      "7   That would panic me a little! Maybe you can re...   \n",
      "8                Is sad when people's phones are dead   \n",
      "9                                           sad face.   \n",
      "10  In cafe management, the end of the month is no...   \n",
      "11  Basically I have listened to Miley Cyrus for f...   \n",
      "12  what did you think of the finale? I thought it...   \n",
      "13  I think that boat sailed my friend... The few ...   \n",
      "14  Gave my mommy her Mother's Day present. Ticket...   \n",
      "15  Installed office for Mac & messed up all my fo...   \n",
      "16                                 You are welcome...   \n",
      "17  Ok so I am **** hungry....! I am fat I know..I...   \n",
      "18  Early monday cramming... yay. Only a few weeks...   \n",
      "19  ok its FF soooo why is not anyone following ME...   \n",
      "20                                     Has Ruth today   \n",
      "21  (bye) plurk out muna. will be back when i am d...   \n",
      "22                     going to have a lazy day today   \n",
      "23                                        I am tired.   \n",
      "24                                - Loving The Jumper   \n",
      "25  _NZ busy,fun mother's day thanks got what I wa...   \n",
      "26  This app is just great, it not only reminds me...   \n",
      "27                                     Still at work.   \n",
      "28                             _by_spork we shall see   \n",
      "29  Guess I am going to try the nap thing again 2d...   \n",
      "30  odd i tried to call mitchel musso but it dosen...   \n",
      "31                         LUCY IS HATING ON MY GWEG!   \n",
      "32  Ah sameway Yet, has 2006 votes ((.We need more...   \n",
      "33                                          how much?   \n",
      "34  shall bring his own glass to work from tonight...   \n",
      "35  Not as useful as Wunderlist... Yet!! Would pre...   \n",
      "36        () UGH, i love tila. haters need to shut up   \n",
      "37  Wow - the dude said I was better than Bobbi Le...   \n",
      "38                            oh no say it are not so   \n",
      "39      Great planning app, reliable and easy to use.   \n",
      "40                                is chilling at home   \n",
      "41  I hope that they could have an alarm after the...   \n",
      "42  Helpful to visualize recurring events on Googl...   \n",
      "43  yep... i think i might have just made the deci...   \n",
      "44                        was jst out there wednesday   \n",
      "45                       Could get to do the honours?   \n",
      "46     yeah... it is going to be a long while for me.   \n",
      "47             waking now, so lazy and very worry ...   \n",
      "48  hehe i will never thorw out these shoes i am l...   \n",
      "49                         thanks dinno appreciate it   \n",
      "\n",
      "                                           text_alpha  \n",
      "0                      Cooking microwave pizzas yummy  \n",
      "1   Any plans of allowing sub tasks to show up in ...  \n",
      "2   I love the humor I just reworded it Like sayin...  \n",
      "3         naw i do not know what you are talkin about  \n",
      "4            That sucks to hear I hate days like that  \n",
      "5   Umm yeah That is probably a pretty good note t...  \n",
      "6                                whatever do you mean  \n",
      "7   That would panic me a little Maybe you can rea...  \n",
      "8                 Is sad when peoples phones are dead  \n",
      "9                                            sad face  \n",
      "10  In cafe management the end of the month is not...  \n",
      "11  Basically I have listened to Miley Cyrus for f...  \n",
      "12  what did you think of the finale I thought it ...  \n",
      "13  I think that boat sailed my friend The few CCO...  \n",
      "14  Gave my mommy her Mothers Day present Tickets ...  \n",
      "15  Installed office for Mac messed up all my font...  \n",
      "16                                    You are welcome  \n",
      "17        Ok so I am hungry I am fat I knowI know Aha  \n",
      "18    Early monday cramming yay Only a few weeks left  \n",
      "19  ok its FF soooo why is not anyone following ME...  \n",
      "20                                     Has Ruth today  \n",
      "21  bye plurk out muna will be back when i am done...  \n",
      "22                     going to have a lazy day today  \n",
      "23                                         I am tired  \n",
      "24                                  Loving The Jumper  \n",
      "25  NZ busyfun mothers day thanks got what I wante...  \n",
      "26  This app is just great it not only reminds me ...  \n",
      "27                                      Still at work  \n",
      "28                               byspork we shall see  \n",
      "29  Guess I am going to try the nap thing again da...  \n",
      "30  odd i tried to call mitchel musso but it dosen...  \n",
      "31                          LUCY IS HATING ON MY GWEG  \n",
      "32   Ah sameway Yet has votes We need more vote WOULD  \n",
      "33                                           how much  \n",
      "34  shall bring his own glass to work from tonight...  \n",
      "35  Not as useful as Wunderlist Yet Would prefer t...  \n",
      "36             UGH i love tila haters need to shut up  \n",
      "37  Wow the dude said I was better than Bobbi Lewi...  \n",
      "38                            oh no say it are not so  \n",
      "39        Great planning app reliable and easy to use  \n",
      "40                                is chilling at home  \n",
      "41  I hope that they could have an alarm after the...  \n",
      "42  Helpful to visualize recurring events on Googl...  \n",
      "43  yep i think i might have just made the decisio...  \n",
      "44                        was jst out there wednesday  \n",
      "45                        Could get to do the honours  \n",
      "46         yeah it is going to be a long while for me  \n",
      "47                  waking now so lazy and very worry  \n",
      "48  hehe i will never thorw out these shoes i am l...  \n",
      "49                         thanks dinno appreciate it  \n"
     ]
    }
   ],
   "source": [
    "# Apply the remove_special_chars function to the 'text_no_urls' column\n",
    "data['text_alpha'] = data['text_no_urls'].apply(remove_special_chars)\n",
    "\n",
    "# Display the first few rows to verify\n",
    "print(data[['text_no_urls', 'text_alpha']].head(50))"
   ]
  },
  {
   "cell_type": "code",
   "execution_count": 29,
   "id": "a62b44b9",
   "metadata": {},
   "outputs": [
    {
     "name": "stdout",
     "output_type": "stream",
     "text": [
      "Number of rows with special characters before cleaning: 26448\n",
      "Number of rows with remaining special characters after cleaning: 0\n"
     ]
    }
   ],
   "source": [
    "# Identify rows that originally contained special characters or numbers\n",
    "rows_with_special_chars = data[data['text_no_urls'].str.contains(special_char_pattern, case=False, na=False, regex=True)].index.tolist()\n",
    "print(f\"Number of rows with special characters before cleaning: {len(rows_with_special_chars)}\")\n",
    "\n",
    "# Verify that special characters and numbers have been removed in 'text_alpha'\n",
    "remaining_special_chars = data[data['text_alpha'].str.contains(special_char_pattern, case=False, na=False, regex=True)].index.tolist()\n",
    "print(f\"Number of rows with remaining special characters after cleaning: {len(remaining_special_chars)}\")\n",
    "\n"
   ]
  },
  {
   "cell_type": "markdown",
   "id": "3e6e5976",
   "metadata": {},
   "source": [
    "**5. Remove accented characters**"
   ]
  },
  {
   "cell_type": "code",
   "execution_count": 30,
   "id": "0dd3c10e",
   "metadata": {},
   "outputs": [],
   "source": [
    "import unicodedata\n",
    "\n",
    "def remove_accented_chars(text):\n",
    "    \"\"\"\n",
    "    Remove accented characters from the input text, replacing them with their non-accented equivalents.\n",
    "    \n",
    "    Args:\n",
    "        text (str): The input text from which to remove accented characters.\n",
    "    \n",
    "    Returns:\n",
    "        str: The text with accented characters removed.\n",
    "    \"\"\"\n",
    "    if not isinstance(text, str):\n",
    "        return text  # Return the original text if it's not a string\n",
    "    \n",
    "    # Normalize the text to NFKD form, which separates characters from their diacritics\n",
    "    normalized_text = unicodedata.normalize('NFKD', text)\n",
    "    \n",
    "    # Encode to ASCII bytes, ignoring characters that can't be encoded (i.e., diacritics)\n",
    "    ascii_bytes = normalized_text.encode('ASCII', 'ignore')\n",
    "    \n",
    "    # Decode back to a string\n",
    "    cleaned_text = ascii_bytes.decode('ASCII')\n",
    "    \n",
    "    # Optionally, remove any extra spaces resulting from the removal\n",
    "    cleaned_text = re.sub(r'\\s+', ' ', cleaned_text).strip()\n",
    "    \n",
    "    return cleaned_text\n"
   ]
  },
  {
   "cell_type": "code",
   "execution_count": 31,
   "id": "0899df2a",
   "metadata": {},
   "outputs": [],
   "source": [
    "# Apply the remove_accented_chars function to the 'text_alpha' column\n",
    "data['text_no_accents'] = data['text_alpha'].apply(remove_accented_chars)"
   ]
  },
  {
   "cell_type": "code",
   "execution_count": 32,
   "id": "dd9d639a",
   "metadata": {},
   "outputs": [
    {
     "name": "stdout",
     "output_type": "stream",
     "text": [
      "Number of rows with remaining accented characters: 0\n",
      "Empty DataFrame\n",
      "Columns: [text_alpha, text_no_accents]\n",
      "Index: []\n"
     ]
    }
   ],
   "source": [
    "# Identify rows that still contain accented characters\n",
    "# This regex matches any character outside the standard ASCII range\n",
    "remaining_accents = data[data['text_no_accents'].str.contains(r'[^\\x00-\\x7F]', regex=True, na=False)].index.tolist()\n",
    "\n",
    "print(f\"Number of rows with remaining accented characters: {len(remaining_accents)}\")\n",
    "\n",
    "# Optionally, display some of these rows to inspect\n",
    "print(data.loc[remaining_accents, ['text_alpha', 'text_no_accents']].head(20))\n"
   ]
  },
  {
   "cell_type": "markdown",
   "id": "f43b3466",
   "metadata": {},
   "source": [
    "**7. Text Normalization**"
   ]
  },
  {
   "cell_type": "code",
   "execution_count": 33,
   "id": "f5a679f5",
   "metadata": {},
   "outputs": [],
   "source": [
    "def make_base(text):\n",
    "    \"\"\"\n",
    "    Normalize the text by converting to lowercase, removing extra whitespaces, and performing basic cleaning.\n",
    "    \n",
    "    Args:\n",
    "        text (str): The input text to normalize.\n",
    "    \n",
    "    Returns:\n",
    "        str: The normalized text.\n",
    "    \"\"\"\n",
    "    if not isinstance(text, str):\n",
    "        return text  # Return the original text if it's not a string\n",
    "    \n",
    "    # Convert to lowercase\n",
    "    text = text.lower()\n",
    "    \n",
    "    # Remove extra whitespaces\n",
    "    text = re.sub(r'\\s+', ' ', text).strip()\n",
    "    \n",
    "    # Additional basic cleaning (optional)\n",
    "    # For example, remove leading/trailing spaces, ensure consistent spacing\n",
    "    # You can add more cleaning steps here as needed\n",
    "    \n",
    "    return text"
   ]
  },
  {
   "cell_type": "code",
   "execution_count": 34,
   "id": "56d1c6bb",
   "metadata": {},
   "outputs": [],
   "source": [
    "# Apply the make_base function to the 'text_no_accents' column\n",
    "data['text_base'] = data['text_no_accents'].apply(make_base)"
   ]
  },
  {
   "cell_type": "code",
   "execution_count": 35,
   "id": "6edc075c",
   "metadata": {},
   "outputs": [
    {
     "name": "stdout",
     "output_type": "stream",
     "text": [
      "Number of rows with uppercase letters after normalization: 0\n"
     ]
    }
   ],
   "source": [
    "# Check if any uppercase letters remain in 'text_base'\n",
    "uppercase_remaining = data[data['text_base'].str.contains(r'[A-Z]', regex=True)].index.tolist()\n",
    "print(f\"Number of rows with uppercase letters after normalization: {len(uppercase_remaining)}\")"
   ]
  },
  {
   "cell_type": "code",
   "execution_count": 36,
   "id": "0e10dc40",
   "metadata": {},
   "outputs": [
    {
     "name": "stdout",
     "output_type": "stream",
     "text": [
      "Number of rows with multiple spaces after normalization: 0\n"
     ]
    }
   ],
   "source": [
    "# Check for multiple spaces\n",
    "multiple_spaces = data[data['text_base'].str.contains(r'\\s{2,}', regex=True)].index.tolist()\n",
    "print(f\"Number of rows with multiple spaces after normalization: {len(multiple_spaces)}\")"
   ]
  },
  {
   "cell_type": "markdown",
   "id": "7b5d40b7",
   "metadata": {},
   "source": [
    "**8. Spelling Correction**"
   ]
  },
  {
   "cell_type": "code",
   "execution_count": 38,
   "id": "98b2beb3",
   "metadata": {},
   "outputs": [
    {
     "name": "stdout",
     "output_type": "stream",
     "text": [
      "Collecting pyspellchecker\n",
      "  Downloading pyspellchecker-0.8.2-py3-none-any.whl.metadata (9.4 kB)\n",
      "Downloading pyspellchecker-0.8.2-py3-none-any.whl (7.1 MB)\n",
      "\u001b[2K   \u001b[90m━━━━━━━━━━━━━━━━━━━━━━━━━━━━━━━━━━━━━━━━\u001b[0m \u001b[32m7.1/7.1 MB\u001b[0m \u001b[31m3.1 MB/s\u001b[0m eta \u001b[36m0:00:00\u001b[0m00:01\u001b[0m00:01\u001b[0m\n",
      "\u001b[?25hInstalling collected packages: pyspellchecker\n",
      "Successfully installed pyspellchecker-0.8.2\n"
     ]
    }
   ],
   "source": [
    "!pip install pyspellchecker"
   ]
  },
  {
   "cell_type": "code",
   "execution_count": 39,
   "id": "47ef1b6b",
   "metadata": {},
   "outputs": [],
   "source": [
    "from spellchecker import SpellChecker"
   ]
  },
  {
   "cell_type": "code",
   "execution_count": null,
   "id": "5fd755af",
   "metadata": {},
   "outputs": [],
   "source": []
  },
  {
   "cell_type": "markdown",
   "id": "42bd96ef",
   "metadata": {},
   "source": [
    "d. Defining the Spelling Correction Function\n",
    "We'll create a function that:\n",
    "\n",
    "Splits the text into words.\n",
    "Identifies misspelled words.\n",
    "Suggests corrections.\n",
    "Reconstructs the corrected sentence."
   ]
  },
  {
   "cell_type": "code",
   "execution_count": 47,
   "id": "11f97954",
   "metadata": {},
   "outputs": [
    {
     "name": "stdout",
     "output_type": "stream",
     "text": [
      "Collecting autocorrect\n",
      "  Downloading autocorrect-2.6.1.tar.gz (622 kB)\n",
      "\u001b[2K     \u001b[90m━━━━━━━━━━━━━━━━━━━━━━━━━━━━━━━━━━━━━━━\u001b[0m \u001b[32m622.8/622.8 kB\u001b[0m \u001b[31m3.1 MB/s\u001b[0m eta \u001b[36m0:00:00\u001b[0ma \u001b[36m0:00:01\u001b[0m\n",
      "\u001b[?25h  Preparing metadata (setup.py) ... \u001b[?25ldone\n",
      "\u001b[?25hBuilding wheels for collected packages: autocorrect\n",
      "  Building wheel for autocorrect (setup.py) ... \u001b[?25ldone\n",
      "\u001b[?25h  Created wheel for autocorrect: filename=autocorrect-2.6.1-py3-none-any.whl size=622363 sha256=99d9250492176e18d7fe98d9f416fe8caabb3506fd461a3c049379e0e4e3823e\n",
      "  Stored in directory: /Users/fako/Library/Caches/pip/wheels/5e/90/99/807a5ad861ce5d22c3c299a11df8cba9f31524f23ae6e645cb\n",
      "Successfully built autocorrect\n",
      "Installing collected packages: autocorrect\n",
      "Successfully installed autocorrect-2.6.1\n",
      "Note: you may need to restart the kernel to use updated packages.\n"
     ]
    }
   ],
   "source": [
    "pip install autocorrect"
   ]
  },
  {
   "cell_type": "code",
   "execution_count": 48,
   "id": "0280789c",
   "metadata": {},
   "outputs": [],
   "source": [
    "import unicodedata\n",
    "from autocorrect import Speller"
   ]
  },
  {
   "cell_type": "code",
   "execution_count": 49,
   "id": "f2a93952",
   "metadata": {},
   "outputs": [],
   "source": [
    "# Initialize the Speller\n",
    "spell = Speller(lang='en')"
   ]
  },
  {
   "cell_type": "code",
   "execution_count": 50,
   "id": "2df31550",
   "metadata": {},
   "outputs": [],
   "source": [
    "# Function to correct spelling using Autocorrect\n",
    "def correct_spelling_autocorrect(text):\n",
    "    if not isinstance(text, str):\n",
    "        return text\n",
    "    corrected_text = spell(text)\n",
    "    return corrected_text"
   ]
  },
  {
   "cell_type": "code",
   "execution_count": 51,
   "id": "59e8af36",
   "metadata": {},
   "outputs": [],
   "source": [
    "# Now, apply spelling correction using Autocorrect\n",
    "data['text_corrected'] = data['text_base'].apply(correct_spelling_autocorrect)"
   ]
  },
  {
   "cell_type": "code",
   "execution_count": 52,
   "id": "32a32492",
   "metadata": {},
   "outputs": [],
   "source": [
    "def find_remaining_misspelled_autocorrect(text):\n",
    "    if not isinstance(text, str):\n",
    "        return False\n",
    "    # Autocorrect doesn't provide a straightforward way to check misspellings\n",
    "    # As a workaround, compare original and corrected text\n",
    "    return text != spell(text)"
   ]
  },
  {
   "cell_type": "code",
   "execution_count": 53,
   "id": "038b71f3",
   "metadata": {},
   "outputs": [
    {
     "name": "stdout",
     "output_type": "stream",
     "text": [
      "Number of rows with corrected words: 0\n"
     ]
    }
   ],
   "source": [
    "rows_with_misspelled = data[data['text_corrected'].apply(find_remaining_misspelled_autocorrect)].index.tolist()\n",
    "print(f\"Number of rows with corrected words: {len(rows_with_misspelled)}\")"
   ]
  },
  {
   "cell_type": "code",
   "execution_count": 80,
   "id": "33dfbc8d",
   "metadata": {},
   "outputs": [
    {
     "data": {
      "text/html": [
       "<div>\n",
       "<style scoped>\n",
       "    .dataframe tbody tr th:only-of-type {\n",
       "        vertical-align: middle;\n",
       "    }\n",
       "\n",
       "    .dataframe tbody tr th {\n",
       "        vertical-align: top;\n",
       "    }\n",
       "\n",
       "    .dataframe thead th {\n",
       "        text-align: right;\n",
       "    }\n",
       "</style>\n",
       "<table border=\"1\" class=\"dataframe\">\n",
       "  <thead>\n",
       "    <tr style=\"text-align: right;\">\n",
       "      <th></th>\n",
       "      <th>id</th>\n",
       "      <th>text</th>\n",
       "      <th>label</th>\n",
       "      <th>sentiment</th>\n",
       "      <th>text_expanded</th>\n",
       "      <th>text_no_emails</th>\n",
       "      <th>text_no_urls</th>\n",
       "      <th>text_alpha</th>\n",
       "      <th>text_no_accents</th>\n",
       "      <th>text_base</th>\n",
       "      <th>text_corrected</th>\n",
       "    </tr>\n",
       "  </thead>\n",
       "  <tbody>\n",
       "    <tr>\n",
       "      <th>0</th>\n",
       "      <td>9536</td>\n",
       "      <td>Cooking microwave pizzas, yummy</td>\n",
       "      <td>2</td>\n",
       "      <td>positive</td>\n",
       "      <td>Cooking microwave pizzas, yummy</td>\n",
       "      <td>Cooking microwave pizzas, yummy</td>\n",
       "      <td>Cooking microwave pizzas, yummy</td>\n",
       "      <td>Cooking microwave pizzas yummy</td>\n",
       "      <td>Cooking microwave pizzas yummy</td>\n",
       "      <td>cooking microwave pizzas yummy</td>\n",
       "      <td>cooking microwave pizza dummy</td>\n",
       "    </tr>\n",
       "    <tr>\n",
       "      <th>1</th>\n",
       "      <td>6135</td>\n",
       "      <td>Any plans of allowing sub tasks to show up in ...</td>\n",
       "      <td>1</td>\n",
       "      <td>neutral</td>\n",
       "      <td>Any plans of allowing sub tasks to show up in ...</td>\n",
       "      <td>Any plans of allowing sub tasks to show up in ...</td>\n",
       "      <td>Any plans of allowing sub tasks to show up in ...</td>\n",
       "      <td>Any plans of allowing sub tasks to show up in ...</td>\n",
       "      <td>Any plans of allowing sub tasks to show up in ...</td>\n",
       "      <td>any plans of allowing sub tasks to show up in ...</td>\n",
       "      <td>any plans of allowing sub tasks to show up in ...</td>\n",
       "    </tr>\n",
       "    <tr>\n",
       "      <th>2</th>\n",
       "      <td>17697</td>\n",
       "      <td>I love the humor, I just reworded it. Like sa...</td>\n",
       "      <td>2</td>\n",
       "      <td>positive</td>\n",
       "      <td>I love the humor, I just reworded it. Like sa...</td>\n",
       "      <td>I love the humor, I just reworded it. Like say...</td>\n",
       "      <td>I love the humor, I just reworded it. Like say...</td>\n",
       "      <td>I love the humor I just reworded it Like sayin...</td>\n",
       "      <td>I love the humor I just reworded it Like sayin...</td>\n",
       "      <td>i love the humor i just reworded it like sayin...</td>\n",
       "      <td>i love the humor i just reworded it like sayin...</td>\n",
       "    </tr>\n",
       "    <tr>\n",
       "      <th>3</th>\n",
       "      <td>14182</td>\n",
       "      <td>naw idk what ur talkin about</td>\n",
       "      <td>1</td>\n",
       "      <td>neutral</td>\n",
       "      <td>naw i do not know what you are talkin about</td>\n",
       "      <td>naw i do not know what you are talkin about</td>\n",
       "      <td>naw i do not know what you are talkin about</td>\n",
       "      <td>naw i do not know what you are talkin about</td>\n",
       "      <td>naw i do not know what you are talkin about</td>\n",
       "      <td>naw i do not know what you are talkin about</td>\n",
       "      <td>new i do not know what you are talkin about</td>\n",
       "    </tr>\n",
       "    <tr>\n",
       "      <th>4</th>\n",
       "      <td>17840</td>\n",
       "      <td>That sucks to hear. I hate days like that</td>\n",
       "      <td>0</td>\n",
       "      <td>negative</td>\n",
       "      <td>That sucks to hear. I hate days like that</td>\n",
       "      <td>That sucks to hear. I hate days like that</td>\n",
       "      <td>That sucks to hear. I hate days like that</td>\n",
       "      <td>That sucks to hear I hate days like that</td>\n",
       "      <td>That sucks to hear I hate days like that</td>\n",
       "      <td>that sucks to hear i hate days like that</td>\n",
       "      <td>that sucks to hear i hate days like that</td>\n",
       "    </tr>\n",
       "  </tbody>\n",
       "</table>\n",
       "</div>"
      ],
      "text/plain": [
       "      id                                               text  label sentiment  \\\n",
       "0   9536                    Cooking microwave pizzas, yummy      2  positive   \n",
       "1   6135  Any plans of allowing sub tasks to show up in ...      1   neutral   \n",
       "2  17697   I love the humor, I just reworded it. Like sa...      2  positive   \n",
       "3  14182                       naw idk what ur talkin about      1   neutral   \n",
       "4  17840          That sucks to hear. I hate days like that      0  negative   \n",
       "\n",
       "                                       text_expanded  \\\n",
       "0                    Cooking microwave pizzas, yummy   \n",
       "1  Any plans of allowing sub tasks to show up in ...   \n",
       "2   I love the humor, I just reworded it. Like sa...   \n",
       "3        naw i do not know what you are talkin about   \n",
       "4          That sucks to hear. I hate days like that   \n",
       "\n",
       "                                      text_no_emails  \\\n",
       "0                    Cooking microwave pizzas, yummy   \n",
       "1  Any plans of allowing sub tasks to show up in ...   \n",
       "2  I love the humor, I just reworded it. Like say...   \n",
       "3        naw i do not know what you are talkin about   \n",
       "4          That sucks to hear. I hate days like that   \n",
       "\n",
       "                                        text_no_urls  \\\n",
       "0                    Cooking microwave pizzas, yummy   \n",
       "1  Any plans of allowing sub tasks to show up in ...   \n",
       "2  I love the humor, I just reworded it. Like say...   \n",
       "3        naw i do not know what you are talkin about   \n",
       "4          That sucks to hear. I hate days like that   \n",
       "\n",
       "                                          text_alpha  \\\n",
       "0                     Cooking microwave pizzas yummy   \n",
       "1  Any plans of allowing sub tasks to show up in ...   \n",
       "2  I love the humor I just reworded it Like sayin...   \n",
       "3        naw i do not know what you are talkin about   \n",
       "4           That sucks to hear I hate days like that   \n",
       "\n",
       "                                     text_no_accents  \\\n",
       "0                     Cooking microwave pizzas yummy   \n",
       "1  Any plans of allowing sub tasks to show up in ...   \n",
       "2  I love the humor I just reworded it Like sayin...   \n",
       "3        naw i do not know what you are talkin about   \n",
       "4           That sucks to hear I hate days like that   \n",
       "\n",
       "                                           text_base  \\\n",
       "0                     cooking microwave pizzas yummy   \n",
       "1  any plans of allowing sub tasks to show up in ...   \n",
       "2  i love the humor i just reworded it like sayin...   \n",
       "3        naw i do not know what you are talkin about   \n",
       "4           that sucks to hear i hate days like that   \n",
       "\n",
       "                                      text_corrected  \n",
       "0                      cooking microwave pizza dummy  \n",
       "1  any plans of allowing sub tasks to show up in ...  \n",
       "2  i love the humor i just reworded it like sayin...  \n",
       "3        new i do not know what you are talkin about  \n",
       "4           that sucks to hear i hate days like that  "
      ]
     },
     "execution_count": 80,
     "metadata": {},
     "output_type": "execute_result"
    }
   ],
   "source": [
    "data.head()"
   ]
  },
  {
   "cell_type": "markdown",
   "id": "31e229cb",
   "metadata": {},
   "source": [
    "## Model Development"
   ]
  },
  {
   "cell_type": "markdown",
   "id": "5f9b0e42",
   "metadata": {},
   "source": [
    "**1. GloVe Embedding Integration**"
   ]
  },
  {
   "cell_type": "code",
   "execution_count": 54,
   "id": "26454f0c",
   "metadata": {},
   "outputs": [],
   "source": [
    "import os\n",
    "import zipfile\n",
    "import requests"
   ]
  },
  {
   "cell_type": "code",
   "execution_count": 55,
   "id": "ce4929e6",
   "metadata": {},
   "outputs": [
    {
     "name": "stdout",
     "output_type": "stream",
     "text": [
      "GloVe zip file already exists.\n"
     ]
    }
   ],
   "source": [
    "# Define the URL and local paths\n",
    "glove_url = \"http://nlp.stanford.edu/data/glove.6B.zip\"\n",
    "glove_zip_path = \"data/glove.6B.zip\"\n",
    "glove_folder = \"data/glove.6B/\"\n",
    "\n",
    "# Create the data directory if it doesn't exist\n",
    "os.makedirs(\"data\", exist_ok=True)\n",
    "\n",
    "# Download the GloVe embeddings if not already downloaded\n",
    "if not os.path.exists(glove_zip_path):\n",
    "    print(\"Downloading GloVe embeddings...\")\n",
    "    response = requests.get(glove_url, stream=True)\n",
    "    with open(glove_zip_path, 'wb') as file:\n",
    "        for chunk in response.iter_content(chunk_size=1024):\n",
    "            if chunk:\n",
    "                file.write(chunk)\n",
    "    print(\"Download completed.\")\n",
    "else:\n",
    "    print(\"GloVe zip file already exists.\")"
   ]
  },
  {
   "cell_type": "code",
   "execution_count": 56,
   "id": "18df8f1d",
   "metadata": {},
   "outputs": [
    {
     "name": "stdout",
     "output_type": "stream",
     "text": [
      "Extracting GloVe embeddings...\n",
      "Extraction completed.\n"
     ]
    }
   ],
   "source": [
    "# Extract the embeddings if not already extracted\n",
    "if not os.path.exists(glove_folder):\n",
    "    print(\"Extracting GloVe embeddings...\")\n",
    "    with zipfile.ZipFile(glove_zip_path, 'r') as zip_ref:\n",
    "        zip_ref.extractall(\"data/\")\n",
    "    print(\"Extraction completed.\")\n",
    "else:\n",
    "    print(\"GloVe embeddings already extracted.\")"
   ]
  },
  {
   "cell_type": "code",
   "execution_count": 57,
   "id": "84972987",
   "metadata": {},
   "outputs": [
    {
     "name": "stdout",
     "output_type": "stream",
     "text": [
      "Loaded 400000 word vectors from GloVe.\n"
     ]
    }
   ],
   "source": [
    "import numpy as np\n",
    "\n",
    "def load_glove_embeddings(glove_file_path):\n",
    "    \"\"\"\n",
    "    Load GloVe embeddings from a file into a dictionary.\n",
    "    \n",
    "    Args:\n",
    "        glove_file_path (str): Path to the GloVe embedding file.\n",
    "        \n",
    "    Returns:\n",
    "        dict: A dictionary mapping words to their GloVe vectors.\n",
    "    \"\"\"\n",
    "    embeddings_index = {}\n",
    "    with open(glove_file_path, 'r', encoding='utf8') as f:\n",
    "        for line in f:\n",
    "            values = line.split()\n",
    "            word = values[0]\n",
    "            # Convert the remaining values to float and form the vector\n",
    "            vector = np.asarray(values[1:], dtype='float32')\n",
    "            embeddings_index[word] = vector\n",
    "    print(f\"Loaded {len(embeddings_index)} word vectors from GloVe.\")\n",
    "    return embeddings_index\n",
    "\n",
    "# Path to the 100-dimensional GloVe vectors\n",
    "glove_file = \"data/glove.6B.100d.txt\"\n",
    "\n",
    "# Load embeddings\n",
    "embeddings_index = load_glove_embeddings(glove_file)\n"
   ]
  },
  {
   "cell_type": "code",
   "execution_count": 58,
   "id": "83cf8940",
   "metadata": {},
   "outputs": [
    {
     "name": "stdout",
     "output_type": "stream",
     "text": [
      "Vector for 'good': [-0.030769   0.11993    0.53909   -0.43696   -0.73937   -0.15345\n",
      "  0.081126  -0.38559   -0.68797   -0.41632   -0.13183   -0.24922\n",
      "  0.441      0.085919   0.20871   -0.063582   0.062228  -0.051234\n",
      " -0.13398    1.1418     0.036526   0.49029   -0.24567   -0.412\n",
      "  0.12349    0.41336   -0.48397   -0.54243   -0.27787   -0.26015\n",
      " -0.38485    0.78656    0.1023    -0.20712    0.40751    0.32026\n",
      " -0.51052    0.48362   -0.0099498 -0.38685    0.034975  -0.167\n",
      "  0.4237    -0.54164   -0.30323   -0.36983    0.082836  -0.52538\n",
      " -0.064531  -1.398     -0.14873   -0.35327   -0.1118     1.0912\n",
      "  0.095864  -2.8129     0.45238    0.46213    1.6012    -0.20837\n",
      " -0.27377    0.71197   -1.0754    -0.046974   0.67479   -0.065839\n",
      "  0.75824    0.39405    0.15507   -0.64719    0.32796   -0.031748\n",
      "  0.52899   -0.43886    0.67405    0.42136   -0.11981   -0.21777\n",
      " -0.29756   -0.1351     0.59898    0.46529   -0.58258   -0.02323\n",
      " -1.5442     0.01901   -0.015877   0.024499  -0.58017   -0.67659\n",
      " -0.040379  -0.44043    0.083292   0.20035   -0.75499    0.16918\n",
      " -0.26573   -0.52878    0.17584    1.065    ]\n"
     ]
    }
   ],
   "source": [
    "# Example: Print the vector for the word 'good'\n",
    "print(\"Vector for 'good':\", embeddings_index.get('good'))"
   ]
  },
  {
   "cell_type": "markdown",
   "id": "fbe00ec3",
   "metadata": {},
   "source": [
    "**Text tokenizing**"
   ]
  },
  {
   "cell_type": "code",
   "execution_count": 60,
   "id": "e282c20c",
   "metadata": {},
   "outputs": [
    {
     "name": "stdout",
     "output_type": "stream",
     "text": [
      "Collecting tensorflow\n",
      "  Downloading tensorflow-2.18.0-cp311-cp311-macosx_12_0_arm64.whl.metadata (4.0 kB)\n",
      "Collecting absl-py>=1.0.0 (from tensorflow)\n",
      "  Downloading absl_py-2.1.0-py3-none-any.whl.metadata (2.3 kB)\n",
      "Collecting astunparse>=1.6.0 (from tensorflow)\n",
      "  Downloading astunparse-1.6.3-py2.py3-none-any.whl.metadata (4.4 kB)\n",
      "Collecting flatbuffers>=24.3.25 (from tensorflow)\n",
      "  Downloading flatbuffers-24.3.25-py2.py3-none-any.whl.metadata (850 bytes)\n",
      "Collecting gast!=0.5.0,!=0.5.1,!=0.5.2,>=0.2.1 (from tensorflow)\n",
      "  Downloading gast-0.6.0-py3-none-any.whl.metadata (1.3 kB)\n",
      "Collecting google-pasta>=0.1.1 (from tensorflow)\n",
      "  Downloading google_pasta-0.2.0-py3-none-any.whl.metadata (814 bytes)\n",
      "Collecting libclang>=13.0.0 (from tensorflow)\n",
      "  Downloading libclang-18.1.1-1-py2.py3-none-macosx_11_0_arm64.whl.metadata (5.2 kB)\n",
      "Collecting opt-einsum>=2.3.2 (from tensorflow)\n",
      "  Downloading opt_einsum-3.4.0-py3-none-any.whl.metadata (6.3 kB)\n",
      "Requirement already satisfied: packaging in /Users/fako/Applications/anaconda3/lib/python3.11/site-packages (from tensorflow) (23.1)\n",
      "Requirement already satisfied: protobuf!=4.21.0,!=4.21.1,!=4.21.2,!=4.21.3,!=4.21.4,!=4.21.5,<6.0.0dev,>=3.20.3 in /Users/fako/Applications/anaconda3/lib/python3.11/site-packages (from tensorflow) (3.20.3)\n",
      "Requirement already satisfied: requests<3,>=2.21.0 in /Users/fako/Applications/anaconda3/lib/python3.11/site-packages (from tensorflow) (2.31.0)\n",
      "Requirement already satisfied: setuptools in /Users/fako/Applications/anaconda3/lib/python3.11/site-packages (from tensorflow) (68.2.2)\n",
      "Requirement already satisfied: six>=1.12.0 in /Users/fako/Applications/anaconda3/lib/python3.11/site-packages (from tensorflow) (1.16.0)\n",
      "Collecting termcolor>=1.1.0 (from tensorflow)\n",
      "  Downloading termcolor-2.5.0-py3-none-any.whl.metadata (6.1 kB)\n",
      "Requirement already satisfied: typing-extensions>=3.6.6 in /Users/fako/Applications/anaconda3/lib/python3.11/site-packages (from tensorflow) (4.9.0)\n",
      "Requirement already satisfied: wrapt>=1.11.0 in /Users/fako/Applications/anaconda3/lib/python3.11/site-packages (from tensorflow) (1.14.1)\n",
      "Collecting grpcio<2.0,>=1.24.3 (from tensorflow)\n",
      "  Downloading grpcio-1.68.1-cp311-cp311-macosx_10_9_universal2.whl.metadata (3.9 kB)\n",
      "Collecting tensorboard<2.19,>=2.18 (from tensorflow)\n",
      "  Downloading tensorboard-2.18.0-py3-none-any.whl.metadata (1.6 kB)\n",
      "Collecting keras>=3.5.0 (from tensorflow)\n",
      "  Downloading keras-3.7.0-py3-none-any.whl.metadata (5.8 kB)\n",
      "Requirement already satisfied: numpy<2.1.0,>=1.26.0 in /Users/fako/Applications/anaconda3/lib/python3.11/site-packages (from tensorflow) (1.26.4)\n",
      "Collecting h5py>=3.11.0 (from tensorflow)\n",
      "  Downloading h5py-3.12.1-cp311-cp311-macosx_11_0_arm64.whl.metadata (2.5 kB)\n",
      "Collecting ml-dtypes<0.5.0,>=0.4.0 (from tensorflow)\n",
      "  Downloading ml_dtypes-0.4.1-cp311-cp311-macosx_10_9_universal2.whl.metadata (20 kB)\n",
      "Collecting tensorflow-io-gcs-filesystem>=0.23.1 (from tensorflow)\n",
      "  Downloading tensorflow_io_gcs_filesystem-0.37.1-cp311-cp311-macosx_12_0_arm64.whl.metadata (14 kB)\n",
      "Requirement already satisfied: wheel<1.0,>=0.23.0 in /Users/fako/Applications/anaconda3/lib/python3.11/site-packages (from astunparse>=1.6.0->tensorflow) (0.41.2)\n",
      "Requirement already satisfied: rich in /Users/fako/Applications/anaconda3/lib/python3.11/site-packages (from keras>=3.5.0->tensorflow) (13.3.5)\n",
      "Collecting namex (from keras>=3.5.0->tensorflow)\n",
      "  Downloading namex-0.0.8-py3-none-any.whl.metadata (246 bytes)\n",
      "Collecting optree (from keras>=3.5.0->tensorflow)\n",
      "  Downloading optree-0.13.1-cp311-cp311-macosx_11_0_arm64.whl.metadata (47 kB)\n",
      "\u001b[2K     \u001b[90m━━━━━━━━━━━━━━━━━━━━━━━━━━━━━━━━━━━━━━━━\u001b[0m \u001b[32m47.8/47.8 kB\u001b[0m \u001b[31m2.4 MB/s\u001b[0m eta \u001b[36m0:00:00\u001b[0m\n",
      "\u001b[?25hRequirement already satisfied: charset-normalizer<4,>=2 in /Users/fako/Applications/anaconda3/lib/python3.11/site-packages (from requests<3,>=2.21.0->tensorflow) (2.0.4)\n",
      "Requirement already satisfied: idna<4,>=2.5 in /Users/fako/Applications/anaconda3/lib/python3.11/site-packages (from requests<3,>=2.21.0->tensorflow) (3.4)\n",
      "Requirement already satisfied: urllib3<3,>=1.21.1 in /Users/fako/Applications/anaconda3/lib/python3.11/site-packages (from requests<3,>=2.21.0->tensorflow) (2.0.7)\n",
      "Requirement already satisfied: certifi>=2017.4.17 in /Users/fako/Applications/anaconda3/lib/python3.11/site-packages (from requests<3,>=2.21.0->tensorflow) (2024.2.2)\n",
      "Requirement already satisfied: markdown>=2.6.8 in /Users/fako/Applications/anaconda3/lib/python3.11/site-packages (from tensorboard<2.19,>=2.18->tensorflow) (3.4.1)\n",
      "Collecting tensorboard-data-server<0.8.0,>=0.7.0 (from tensorboard<2.19,>=2.18->tensorflow)\n",
      "  Downloading tensorboard_data_server-0.7.2-py3-none-any.whl.metadata (1.1 kB)\n",
      "Requirement already satisfied: werkzeug>=1.0.1 in /Users/fako/Applications/anaconda3/lib/python3.11/site-packages (from tensorboard<2.19,>=2.18->tensorflow) (2.2.3)\n",
      "Requirement already satisfied: MarkupSafe>=2.1.1 in /Users/fako/Applications/anaconda3/lib/python3.11/site-packages (from werkzeug>=1.0.1->tensorboard<2.19,>=2.18->tensorflow) (2.1.3)\n",
      "Requirement already satisfied: markdown-it-py<3.0.0,>=2.2.0 in /Users/fako/Applications/anaconda3/lib/python3.11/site-packages (from rich->keras>=3.5.0->tensorflow) (2.2.0)\n",
      "Requirement already satisfied: pygments<3.0.0,>=2.13.0 in /Users/fako/Applications/anaconda3/lib/python3.11/site-packages (from rich->keras>=3.5.0->tensorflow) (2.15.1)\n",
      "Requirement already satisfied: mdurl~=0.1 in /Users/fako/Applications/anaconda3/lib/python3.11/site-packages (from markdown-it-py<3.0.0,>=2.2.0->rich->keras>=3.5.0->tensorflow) (0.1.0)\n",
      "Downloading tensorflow-2.18.0-cp311-cp311-macosx_12_0_arm64.whl (239.5 MB)\n",
      "\u001b[2K   \u001b[90m━━━━━━━━━━━━━━━━━━━━━━━━━━━━━━━━━━━━━━━━\u001b[0m \u001b[32m239.5/239.5 MB\u001b[0m \u001b[31m3.1 MB/s\u001b[0m eta \u001b[36m0:00:00\u001b[0m00:01\u001b[0m00:02\u001b[0m\n",
      "\u001b[?25hDownloading absl_py-2.1.0-py3-none-any.whl (133 kB)\n",
      "\u001b[2K   \u001b[90m━━━━━━━━━━━━━━━━━━━━━━━━━━━━━━━━━━━━━━━━\u001b[0m \u001b[32m133.7/133.7 kB\u001b[0m \u001b[31m4.1 MB/s\u001b[0m eta \u001b[36m0:00:00\u001b[0m\n",
      "\u001b[?25hDownloading astunparse-1.6.3-py2.py3-none-any.whl (12 kB)\n",
      "Downloading flatbuffers-24.3.25-py2.py3-none-any.whl (26 kB)\n",
      "Downloading gast-0.6.0-py3-none-any.whl (21 kB)\n",
      "Downloading google_pasta-0.2.0-py3-none-any.whl (57 kB)\n",
      "\u001b[2K   \u001b[90m━━━━━━━━━━━━━━━━━━━━━━━━━━━━━━━━━━━━━━━━\u001b[0m \u001b[32m57.5/57.5 kB\u001b[0m \u001b[31m4.1 MB/s\u001b[0m eta \u001b[36m0:00:00\u001b[0m\n",
      "\u001b[?25hDownloading grpcio-1.68.1-cp311-cp311-macosx_10_9_universal2.whl (11.2 MB)\n",
      "\u001b[2K   \u001b[90m━━━━━━━━━━━━━━━━━━━━━━━━━━━━━━━━━━━━━━━━\u001b[0m \u001b[32m11.2/11.2 MB\u001b[0m \u001b[31m4.0 MB/s\u001b[0m eta \u001b[36m0:00:00\u001b[0m00:01\u001b[0m00:01\u001b[0m\n",
      "\u001b[?25hDownloading h5py-3.12.1-cp311-cp311-macosx_11_0_arm64.whl (2.9 MB)\n",
      "\u001b[2K   \u001b[90m━━━━━━━━━━━━━━━━━━━━━━━━━━━━━━━━━━━━━━━━\u001b[0m \u001b[32m2.9/2.9 MB\u001b[0m \u001b[31m3.6 MB/s\u001b[0m eta \u001b[36m0:00:00\u001b[0m00:01\u001b[0m00:01\u001b[0m\n",
      "\u001b[?25hDownloading keras-3.7.0-py3-none-any.whl (1.2 MB)\n",
      "\u001b[2K   \u001b[90m━━━━━━━━━━━━━━━━━━━━━━━━━━━━━━━━━━━━━━━━\u001b[0m \u001b[32m1.2/1.2 MB\u001b[0m \u001b[31m2.5 MB/s\u001b[0m eta \u001b[36m0:00:00\u001b[0m00:01\u001b[0m00:01\u001b[0m\n",
      "\u001b[?25hDownloading libclang-18.1.1-1-py2.py3-none-macosx_11_0_arm64.whl (25.8 MB)\n",
      "\u001b[2K   \u001b[90m━━━━━━━━━━━━━━━━━━━━━━━━━━━━━━━━━━━━━━━━\u001b[0m \u001b[32m25.8/25.8 MB\u001b[0m \u001b[31m3.6 MB/s\u001b[0m eta \u001b[36m0:00:00\u001b[0m00:01\u001b[0m00:01\u001b[0m\n",
      "\u001b[?25hDownloading ml_dtypes-0.4.1-cp311-cp311-macosx_10_9_universal2.whl (397 kB)\n",
      "\u001b[2K   \u001b[90m━━━━━━━━━━━━━━━━━━━━━━━━━━━━━━━━━━━━━━━━\u001b[0m \u001b[32m398.0/398.0 kB\u001b[0m \u001b[31m2.7 MB/s\u001b[0m eta \u001b[36m0:00:00\u001b[0ma \u001b[36m0:00:01\u001b[0m\n",
      "\u001b[?25hDownloading opt_einsum-3.4.0-py3-none-any.whl (71 kB)\n",
      "\u001b[2K   \u001b[90m━━━━━━━━━━━━━━━━━━━━━━━━━━━━━━━━━━━━━━━━\u001b[0m \u001b[32m71.9/71.9 kB\u001b[0m \u001b[31m2.4 MB/s\u001b[0m eta \u001b[36m0:00:00\u001b[0m\n",
      "\u001b[?25hDownloading tensorboard-2.18.0-py3-none-any.whl (5.5 MB)\n",
      "\u001b[2K   \u001b[90m━━━━━━━━━━━━━━━━━━━━━━━━━━━━━━━━━━━━━━━━\u001b[0m \u001b[32m5.5/5.5 MB\u001b[0m \u001b[31m3.1 MB/s\u001b[0m eta \u001b[36m0:00:00\u001b[0m00:01\u001b[0m00:01\u001b[0m\n",
      "\u001b[?25hDownloading tensorflow_io_gcs_filesystem-0.37.1-cp311-cp311-macosx_12_0_arm64.whl (3.5 MB)\n",
      "\u001b[2K   \u001b[90m━━━━━━━━━━━━━━━━━━━━━━━━━━━━━━━━━━━━━━━━\u001b[0m \u001b[32m3.5/3.5 MB\u001b[0m \u001b[31m3.1 MB/s\u001b[0m eta \u001b[36m0:00:00\u001b[0m00:01\u001b[0m00:01\u001b[0m\n",
      "\u001b[?25hDownloading termcolor-2.5.0-py3-none-any.whl (7.8 kB)\n",
      "Downloading tensorboard_data_server-0.7.2-py3-none-any.whl (2.4 kB)\n",
      "Downloading namex-0.0.8-py3-none-any.whl (5.8 kB)\n",
      "Downloading optree-0.13.1-cp311-cp311-macosx_11_0_arm64.whl (318 kB)\n"
     ]
    },
    {
     "name": "stdout",
     "output_type": "stream",
     "text": [
      "\u001b[2K   \u001b[90m━━━━━━━━━━━━━━━━━━━━━━━━━━━━━━━━━━━━━━━━\u001b[0m \u001b[32m318.6/318.6 kB\u001b[0m \u001b[31m3.6 MB/s\u001b[0m eta \u001b[36m0:00:00\u001b[0ma \u001b[36m0:00:01\u001b[0m\n",
      "\u001b[?25hInstalling collected packages: namex, libclang, flatbuffers, termcolor, tensorflow-io-gcs-filesystem, tensorboard-data-server, optree, opt-einsum, ml-dtypes, h5py, grpcio, google-pasta, gast, astunparse, absl-py, tensorboard, keras, tensorflow\n",
      "  Attempting uninstall: h5py\n",
      "    Found existing installation: h5py 3.9.0\n",
      "    Uninstalling h5py-3.9.0:\n",
      "      Successfully uninstalled h5py-3.9.0\n",
      "Successfully installed absl-py-2.1.0 astunparse-1.6.3 flatbuffers-24.3.25 gast-0.6.0 google-pasta-0.2.0 grpcio-1.68.1 h5py-3.12.1 keras-3.7.0 libclang-18.1.1 ml-dtypes-0.4.1 namex-0.0.8 opt-einsum-3.4.0 optree-0.13.1 tensorboard-2.18.0 tensorboard-data-server-0.7.2 tensorflow-2.18.0 tensorflow-io-gcs-filesystem-0.37.1 termcolor-2.5.0\n",
      "Note: you may need to restart the kernel to use updated packages.\n"
     ]
    }
   ],
   "source": [
    "pip install tensorflow"
   ]
  },
  {
   "cell_type": "code",
   "execution_count": 61,
   "id": "9a5be9eb",
   "metadata": {},
   "outputs": [
    {
     "name": "stdout",
     "output_type": "stream",
     "text": [
      "Vocabulary Size: 20744\n"
     ]
    }
   ],
   "source": [
    "from tensorflow.keras.preprocessing.text import Tokenizer\n",
    "\n",
    "# Assuming your cleaned and corrected text is in 'text_corrected' column\n",
    "texts = data['text_corrected'].astype(str).tolist()\n",
    "\n",
    "# Initialize the Tokenizer\n",
    "tokenizer = Tokenizer()\n",
    "tokenizer.fit_on_texts(texts)\n",
    "\n",
    "# Vocabulary size\n",
    "vocab_size = len(tokenizer.word_index) + 1  # +1 for padding token\n",
    "print(f\"Vocabulary Size: {vocab_size}\")\n"
   ]
  },
  {
   "cell_type": "code",
   "execution_count": 101,
   "id": "d3fef9f3",
   "metadata": {},
   "outputs": [
    {
     "name": "stdout",
     "output_type": "stream",
     "text": [
      "Maximum Sequence Length: 392\n"
     ]
    }
   ],
   "source": [
    "# Convert texts to sequences\n",
    "sequences = tokenizer.texts_to_sequences(texts)\n",
    "\n",
    "# Optionally, pad sequences to a fixed length\n",
    "from tensorflow.keras.preprocessing.sequence import pad_sequences\n",
    "\n",
    "max_sequence_length = max(len(seq) for seq in sequences)\n",
    "print(f\"Maximum Sequence Length: {max_sequence_length}\")\n",
    "\n",
    "# Pad sequences\n",
    "padded_sequences = pad_sequences(sequences, maxlen=max_sequence_length, padding='pre')\n"
   ]
  },
  {
   "cell_type": "markdown",
   "id": "6208916c",
   "metadata": {},
   "source": [
    "creating embedding matrix"
   ]
  },
  {
   "cell_type": "code",
   "execution_count": 117,
   "id": "48bcc265",
   "metadata": {},
   "outputs": [
    {
     "data": {
      "text/plain": [
       "(20744, 100)"
      ]
     },
     "execution_count": 117,
     "metadata": {},
     "output_type": "execute_result"
    }
   ],
   "source": [
    "embedding_dim = 100  # As we're using 100-dimensional GloVe vectors\n",
    "\n",
    "# Initialize the embedding matrix with zeros\n",
    "embedding_matrix = np.zeros((vocab_size, embedding_dim))\n",
    "\n",
    "# Populate the embedding matrix\n",
    "for word, index in tokenizer.word_index.items():\n",
    "    if index >= vocab_size:\n",
    "        continue  # Skip if the index is out of bounds\n",
    "    embedding_vector = embeddings_index.get(word)\n",
    "    if embedding_vector is not None:\n",
    "        # Words found in GloVe\n",
    "        embedding_matrix[index] = embedding_vector\n",
    "    else:\n",
    "        # Words not found in GloVe\n",
    "        # Initialize with a random vector or keep as zeros\n",
    "        # Option 1: Random initialization\n",
    "        embedding_matrix[index] = np.random.normal(scale=0.6, size=(embedding_dim,))\n",
    "        # Option 2: Keep as zeros (already initialized)\n",
    "        # embedding_matrix[index] = np.zeros(embedding_dim)\n",
    "\n",
    "embedding_matrix.shape"
   ]
  },
  {
   "cell_type": "code",
   "execution_count": 103,
   "id": "1c4bf445",
   "metadata": {},
   "outputs": [
    {
     "name": "stdout",
     "output_type": "stream",
     "text": [
      "Embedding vector for 'good' (Index 33):\n",
      "[-0.030769    0.11993     0.53908998 -0.43696001 -0.73936999 -0.15345\n",
      "  0.081126   -0.38558999 -0.68796998 -0.41632    -0.13183001 -0.24922\n",
      "  0.44100001  0.085919    0.20871    -0.063582    0.062228   -0.051234\n",
      " -0.13398001  1.14180005  0.036526    0.49028999 -0.24567001 -0.412\n",
      "  0.12349     0.41336    -0.48396999 -0.54242998 -0.27787    -0.26014999\n",
      " -0.38485     0.78656     0.1023     -0.20712     0.40751001  0.32025999\n",
      " -0.51051998  0.48361999 -0.0099498  -0.38685     0.034975   -0.167\n",
      "  0.4237     -0.54163998 -0.30322999 -0.36983001  0.082836   -0.52538002\n",
      " -0.064531   -1.398      -0.14872999 -0.35326999 -0.1118      1.09119999\n",
      "  0.095864   -2.81290007  0.45238     0.46213001  1.60119998 -0.20837\n",
      " -0.27377     0.71196997 -1.07539999 -0.046974    0.67479002 -0.065839\n",
      "  0.75823998  0.39405     0.15507001 -0.64718997  0.32796001 -0.031748\n",
      "  0.52898997 -0.43886     0.67404997  0.42135999 -0.11981    -0.21777\n",
      " -0.29756001 -0.13510001  0.59898001  0.46529001 -0.58257997 -0.02323\n",
      " -1.54419994  0.01901    -0.015877    0.024499   -0.58016998 -0.67659003\n",
      " -0.040379   -0.44042999  0.083292    0.20035    -0.75498998  0.16918001\n",
      " -0.26572999 -0.52877998  0.17584001  1.06500006]\n"
     ]
    }
   ],
   "source": [
    "# Example: Embedding vector for the word 'good'\n",
    "word_index = tokenizer.word_index\n",
    "good_index = word_index.get('good')\n",
    "if good_index is not None:\n",
    "    print(f\"Embedding vector for 'good' (Index {good_index}):\\n{embedding_matrix[good_index]}\")\n",
    "else:\n",
    "    print(\"'good' not found in the tokenizer's word index.\")\n"
   ]
  },
  {
   "cell_type": "code",
   "execution_count": 104,
   "id": "b03e4550",
   "metadata": {},
   "outputs": [],
   "source": [
    "import numpy as np\n",
    "from tensorflow.keras.models import Sequential\n",
    "from tensorflow.keras.layers import Embedding, LSTM, Dense, Dropout, Bidirectional\n",
    "from tensorflow.keras.optimizers import Adam\n",
    "from tensorflow.keras.callbacks import EarlyStopping, ModelCheckpoint\n",
    "from tensorflow.keras.preprocessing.text import Tokenizer\n",
    "from tensorflow.keras.preprocessing.sequence import pad_sequences\n",
    "from sklearn.model_selection import train_test_split\n",
    "from symspellpy.symspellpy import SymSpell, Verbosity\n",
    "import contractions\n",
    "import logging\n"
   ]
  },
  {
   "cell_type": "markdown",
   "id": "52b6d813",
   "metadata": {},
   "source": [
    "Define and build the model"
   ]
  },
  {
   "cell_type": "raw",
   "id": "4ca53f7e",
   "metadata": {},
   "source": [
    "# Define model parameters\n",
    "embedding_dim = 100  # As we're using 100-dimensional GloVe vectors\n",
    "vocab_size = embedding_matrix.shape[0]\n",
    "max_sequence_length = padded_sequences.shape[1]\n",
    "\n",
    "model = Sequential()\n",
    "\n",
    "# 1. Embedding Layer\n",
    "model.add(Embedding(input_dim=vocab_size,\n",
    "                    output_dim=embedding_dim,\n",
    "                    weights=[embedding_matrix],\n",
    "                    input_length=max_sequence_length,\n",
    "                    trainable=False))  # Set to True to fine-tune embeddings\n",
    "\n",
    "# 2. Bidirectional LSTM Layer\n",
    "model.add(Bidirectional(LSTM(units=128, return_sequences=False, dropout=0.2, recurrent_dropout=0.2)))\n",
    "\n",
    "# 3. Dropout Layer\n",
    "model.add(Dropout(0.5))\n",
    "\n",
    "# 4. Dense Layer\n",
    "model.add(Dense(32, activation='relu'))\n",
    "\n",
    "# 5. Output Layer\n",
    "model.add(Dense(3, activation='softmax'))  # 3 classes with softmax activation\n",
    "\n",
    "# Compile the model\n",
    "model.compile(optimizer=Adam(learning_rate=1e-3),\n",
    "              loss='sparse_categorical_crossentropy',  # Use 'categorical_crossentropy' if labels are one-hot\n",
    "              metrics=['accuracy'])\n",
    "\n",
    "# Display the model summary\n",
    "model.summary()"
   ]
  },
  {
   "cell_type": "code",
   "execution_count": 124,
   "id": "b8af2ed4",
   "metadata": {},
   "outputs": [
    {
     "data": {
      "text/html": [
       "<pre style=\"white-space:pre;overflow-x:auto;line-height:normal;font-family:Menlo,'DejaVu Sans Mono',consolas,'Courier New',monospace\"><span style=\"font-weight: bold\">Model: \"sequential_5\"</span>\n",
       "</pre>\n"
      ],
      "text/plain": [
       "\u001b[1mModel: \"sequential_5\"\u001b[0m\n"
      ]
     },
     "metadata": {},
     "output_type": "display_data"
    },
    {
     "data": {
      "text/html": [
       "<pre style=\"white-space:pre;overflow-x:auto;line-height:normal;font-family:Menlo,'DejaVu Sans Mono',consolas,'Courier New',monospace\">┏━━━━━━━━━━━━━━━━━━━━━━━━━━━━━━━━━┳━━━━━━━━━━━━━━━━━━━━━━━━┳━━━━━━━━━━━━━━━┓\n",
       "┃<span style=\"font-weight: bold\"> Layer (type)                    </span>┃<span style=\"font-weight: bold\"> Output Shape           </span>┃<span style=\"font-weight: bold\">       Param # </span>┃\n",
       "┡━━━━━━━━━━━━━━━━━━━━━━━━━━━━━━━━━╇━━━━━━━━━━━━━━━━━━━━━━━━╇━━━━━━━━━━━━━━━┩\n",
       "│ embedding_5 (<span style=\"color: #0087ff; text-decoration-color: #0087ff\">Embedding</span>)         │ ?                      │     <span style=\"color: #00af00; text-decoration-color: #00af00\">2,074,400</span> │\n",
       "├─────────────────────────────────┼────────────────────────┼───────────────┤\n",
       "│ gru_1 (<span style=\"color: #0087ff; text-decoration-color: #0087ff\">GRU</span>)                     │ ?                      │   <span style=\"color: #00af00; text-decoration-color: #00af00\">0</span> (unbuilt) │\n",
       "├─────────────────────────────────┼────────────────────────┼───────────────┤\n",
       "│ dropout_5 (<span style=\"color: #0087ff; text-decoration-color: #0087ff\">Dropout</span>)             │ ?                      │             <span style=\"color: #00af00; text-decoration-color: #00af00\">0</span> │\n",
       "├─────────────────────────────────┼────────────────────────┼───────────────┤\n",
       "│ dense_10 (<span style=\"color: #0087ff; text-decoration-color: #0087ff\">Dense</span>)                │ ?                      │   <span style=\"color: #00af00; text-decoration-color: #00af00\">0</span> (unbuilt) │\n",
       "├─────────────────────────────────┼────────────────────────┼───────────────┤\n",
       "│ dense_11 (<span style=\"color: #0087ff; text-decoration-color: #0087ff\">Dense</span>)                │ ?                      │   <span style=\"color: #00af00; text-decoration-color: #00af00\">0</span> (unbuilt) │\n",
       "└─────────────────────────────────┴────────────────────────┴───────────────┘\n",
       "</pre>\n"
      ],
      "text/plain": [
       "┏━━━━━━━━━━━━━━━━━━━━━━━━━━━━━━━━━┳━━━━━━━━━━━━━━━━━━━━━━━━┳━━━━━━━━━━━━━━━┓\n",
       "┃\u001b[1m \u001b[0m\u001b[1mLayer (type)                   \u001b[0m\u001b[1m \u001b[0m┃\u001b[1m \u001b[0m\u001b[1mOutput Shape          \u001b[0m\u001b[1m \u001b[0m┃\u001b[1m \u001b[0m\u001b[1m      Param #\u001b[0m\u001b[1m \u001b[0m┃\n",
       "┡━━━━━━━━━━━━━━━━━━━━━━━━━━━━━━━━━╇━━━━━━━━━━━━━━━━━━━━━━━━╇━━━━━━━━━━━━━━━┩\n",
       "│ embedding_5 (\u001b[38;5;33mEmbedding\u001b[0m)         │ ?                      │     \u001b[38;5;34m2,074,400\u001b[0m │\n",
       "├─────────────────────────────────┼────────────────────────┼───────────────┤\n",
       "│ gru_1 (\u001b[38;5;33mGRU\u001b[0m)                     │ ?                      │   \u001b[38;5;34m0\u001b[0m (unbuilt) │\n",
       "├─────────────────────────────────┼────────────────────────┼───────────────┤\n",
       "│ dropout_5 (\u001b[38;5;33mDropout\u001b[0m)             │ ?                      │             \u001b[38;5;34m0\u001b[0m │\n",
       "├─────────────────────────────────┼────────────────────────┼───────────────┤\n",
       "│ dense_10 (\u001b[38;5;33mDense\u001b[0m)                │ ?                      │   \u001b[38;5;34m0\u001b[0m (unbuilt) │\n",
       "├─────────────────────────────────┼────────────────────────┼───────────────┤\n",
       "│ dense_11 (\u001b[38;5;33mDense\u001b[0m)                │ ?                      │   \u001b[38;5;34m0\u001b[0m (unbuilt) │\n",
       "└─────────────────────────────────┴────────────────────────┴───────────────┘\n"
      ]
     },
     "metadata": {},
     "output_type": "display_data"
    },
    {
     "data": {
      "text/html": [
       "<pre style=\"white-space:pre;overflow-x:auto;line-height:normal;font-family:Menlo,'DejaVu Sans Mono',consolas,'Courier New',monospace\"><span style=\"font-weight: bold\"> Total params: </span><span style=\"color: #00af00; text-decoration-color: #00af00\">2,074,400</span> (7.91 MB)\n",
       "</pre>\n"
      ],
      "text/plain": [
       "\u001b[1m Total params: \u001b[0m\u001b[38;5;34m2,074,400\u001b[0m (7.91 MB)\n"
      ]
     },
     "metadata": {},
     "output_type": "display_data"
    },
    {
     "data": {
      "text/html": [
       "<pre style=\"white-space:pre;overflow-x:auto;line-height:normal;font-family:Menlo,'DejaVu Sans Mono',consolas,'Courier New',monospace\"><span style=\"font-weight: bold\"> Trainable params: </span><span style=\"color: #00af00; text-decoration-color: #00af00\">0</span> (0.00 B)\n",
       "</pre>\n"
      ],
      "text/plain": [
       "\u001b[1m Trainable params: \u001b[0m\u001b[38;5;34m0\u001b[0m (0.00 B)\n"
      ]
     },
     "metadata": {},
     "output_type": "display_data"
    },
    {
     "data": {
      "text/html": [
       "<pre style=\"white-space:pre;overflow-x:auto;line-height:normal;font-family:Menlo,'DejaVu Sans Mono',consolas,'Courier New',monospace\"><span style=\"font-weight: bold\"> Non-trainable params: </span><span style=\"color: #00af00; text-decoration-color: #00af00\">2,074,400</span> (7.91 MB)\n",
       "</pre>\n"
      ],
      "text/plain": [
       "\u001b[1m Non-trainable params: \u001b[0m\u001b[38;5;34m2,074,400\u001b[0m (7.91 MB)\n"
      ]
     },
     "metadata": {},
     "output_type": "display_data"
    }
   ],
   "source": [
    "# Define model parameters\n",
    "embedding_dim = 100  # As we're using 100-dimensional GloVe vectors\n",
    "vocab_size = embedding_matrix.shape[0]\n",
    "max_sequence_length = padded_sequences.shape[1]\n",
    "\n",
    "model = Sequential()\n",
    "\n",
    "# 1. Embedding Layer\n",
    "model.add(Embedding(input_dim=vocab_size,\n",
    "                    output_dim=embedding_dim,\n",
    "                    weights=[embedding_matrix],\n",
    "                    input_length=max_sequence_length,\n",
    "                    trainable=False))  # Set to True to fine-tune embeddings\n",
    "\n",
    "# 2. GRU Layer\n",
    "model.add(GRU(units=128, return_sequences=False, dropout=0.2, recurrent_dropout=0.2))\n",
    "\n",
    "# 3. Dropout Layer\n",
    "model.add(Dropout(0.5))\n",
    "\n",
    "# 4. Dense Layer\n",
    "model.add(Dense(64, activation='relu'))\n",
    "\n",
    "# 5. Output Layer\n",
    "model.add(Dense(3, activation='softmax'))  # 3 classes with softmax activation\n",
    "\n",
    "# Compile the model\n",
    "model.compile(optimizer=Adam(learning_rate=1e-3),\n",
    "              loss='sparse_categorical_crossentropy',  # Use 'categorical_crossentropy' if labels are one-hot\n",
    "              metrics=['accuracy'])\n",
    "\n",
    "# Display the model summary\n",
    "model.summary()\n"
   ]
  },
  {
   "cell_type": "code",
   "execution_count": 125,
   "id": "b3f09290",
   "metadata": {},
   "outputs": [],
   "source": [
    "# Compile the model for multiclass classification\n",
    "model.compile(optimizer=Adam(learning_rate=1e-3),\n",
    "              loss='sparse_categorical_crossentropy',  # Use 'categorical_crossentropy' if labels are one-hot encoded\n",
    "              metrics=['accuracy'])"
   ]
  },
  {
   "cell_type": "code",
   "execution_count": 126,
   "id": "47afbc67",
   "metadata": {},
   "outputs": [
    {
     "name": "stdout",
     "output_type": "stream",
     "text": [
      "Training Samples: 24985\n",
      "Validation Samples: 6247\n"
     ]
    },
    {
     "data": {
      "text/plain": [
       "(31232, 392)"
      ]
     },
     "execution_count": 126,
     "metadata": {},
     "output_type": "execute_result"
    }
   ],
   "source": [
    "# Assuming 'padded_sequences' and 'labels' are already defined\n",
    "X = padded_sequences\n",
    "y = data['label'].values  # Integer-encoded labels\n",
    "\n",
    "# Split the data: 80% training, 20% validation\n",
    "X_train, X_val, y_train, y_val = train_test_split(X, y, test_size=0.2, random_state=42)\n",
    "\n",
    "print(f\"Training Samples: {X_train.shape[0]}\")\n",
    "print(f\"Validation Samples: {X_val.shape[0]}\")\n",
    "\n",
    "X.shape"
   ]
  },
  {
   "cell_type": "code",
   "execution_count": 127,
   "id": "a2c1e7f0",
   "metadata": {},
   "outputs": [],
   "source": [
    "# Define Early Stopping to prevent overfitting\n",
    "# early_stop = EarlyStopping(monitor='val_loss', patience=3, restore_best_weights=True)\n",
    "\n",
    "# Define Model Checkpoint to save the best model\n",
    "# checkpoint = ModelCheckpoint('best_multiclass_model.keras', monitor='val_loss', save_best_only=True, verbose=1)"
   ]
  },
  {
   "cell_type": "code",
   "execution_count": 128,
   "id": "5df61370",
   "metadata": {},
   "outputs": [
    {
     "name": "stdout",
     "output_type": "stream",
     "text": [
      "Epoch 1/20\n",
      "\u001b[1m196/196\u001b[0m \u001b[32m━━━━━━━━━━━━━━━━━━━━\u001b[0m\u001b[37m\u001b[0m \u001b[1m0s\u001b[0m 430ms/step - accuracy: 0.3822 - loss: 1.1396\n",
      "Epoch 1: val_loss improved from inf to 1.04162, saving model to best_model.keras\n",
      "\u001b[1m196/196\u001b[0m \u001b[32m━━━━━━━━━━━━━━━━━━━━\u001b[0m\u001b[37m\u001b[0m \u001b[1m92s\u001b[0m 466ms/step - accuracy: 0.3823 - loss: 1.1397 - val_accuracy: 0.4538 - val_loss: 1.0416\n",
      "Epoch 2/20\n",
      "\u001b[1m196/196\u001b[0m \u001b[32m━━━━━━━━━━━━━━━━━━━━\u001b[0m\u001b[37m\u001b[0m \u001b[1m0s\u001b[0m 452ms/step - accuracy: 0.4399 - loss: 1.0826\n",
      "Epoch 2: val_loss improved from 1.04162 to 1.03233, saving model to best_model.keras\n",
      "\u001b[1m196/196\u001b[0m \u001b[32m━━━━━━━━━━━━━━━━━━━━\u001b[0m\u001b[37m\u001b[0m \u001b[1m95s\u001b[0m 485ms/step - accuracy: 0.4399 - loss: 1.0826 - val_accuracy: 0.4706 - val_loss: 1.0323\n",
      "Epoch 3/20\n",
      "\u001b[1m196/196\u001b[0m \u001b[32m━━━━━━━━━━━━━━━━━━━━\u001b[0m\u001b[37m\u001b[0m \u001b[1m0s\u001b[0m 431ms/step - accuracy: 0.4540 - loss: 615.6633\n",
      "Epoch 3: val_loss did not improve from 1.03233\n",
      "\u001b[1m196/196\u001b[0m \u001b[32m━━━━━━━━━━━━━━━━━━━━\u001b[0m\u001b[37m\u001b[0m \u001b[1m91s\u001b[0m 466ms/step - accuracy: 0.4540 - loss: 626.6453 - val_accuracy: 0.4226 - val_loss: 1.0606\n",
      "Epoch 4/20\n",
      "\u001b[1m196/196\u001b[0m \u001b[32m━━━━━━━━━━━━━━━━━━━━\u001b[0m\u001b[37m\u001b[0m \u001b[1m0s\u001b[0m 438ms/step - accuracy: 0.4185 - loss: 8.9037\n",
      "Epoch 4: val_loss did not improve from 1.03233\n",
      "\u001b[1m196/196\u001b[0m \u001b[32m━━━━━━━━━━━━━━━━━━━━\u001b[0m\u001b[37m\u001b[0m \u001b[1m93s\u001b[0m 474ms/step - accuracy: 0.4185 - loss: 8.8801 - val_accuracy: 0.4597 - val_loss: 1.0504\n",
      "Epoch 5/20\n",
      "\u001b[1m196/196\u001b[0m \u001b[32m━━━━━━━━━━━━━━━━━━━━\u001b[0m\u001b[37m\u001b[0m \u001b[1m0s\u001b[0m 436ms/step - accuracy: 0.4305 - loss: 1.0674\n",
      "Epoch 5: val_loss did not improve from 1.03233\n",
      "\u001b[1m196/196\u001b[0m \u001b[32m━━━━━━━━━━━━━━━━━━━━\u001b[0m\u001b[37m\u001b[0m \u001b[1m93s\u001b[0m 473ms/step - accuracy: 0.4306 - loss: 1.0674 - val_accuracy: 0.4642 - val_loss: 1.0468\n"
     ]
    }
   ],
   "source": [
    "# -----------------------------\n",
    "# Step 7: Define Callbacks\n",
    "# -----------------------------\n",
    "\n",
    "early_stop = EarlyStopping(monitor='val_loss', patience=3, restore_best_weights=True)\n",
    "checkpoint = ModelCheckpoint('best_model.keras', monitor='val_loss', save_best_only=True, verbose=1)\n",
    "\n",
    "# -----------------------------\n",
    "# Step 8: Train the Model\n",
    "# -----------------------------\n",
    "\n",
    "history = model.fit(X_train, y_train,\n",
    "                    epochs=20,\n",
    "                    batch_size=128,\n",
    "                    validation_data=(X_val, y_val),\n",
    "                    callbacks=[early_stop, checkpoint],\n",
    "                    verbose=1)\n"
   ]
  },
  {
   "cell_type": "code",
   "execution_count": 113,
   "id": "ec3320e6",
   "metadata": {},
   "outputs": [],
   "source": [
    "from tensorflow.keras.models import load_model\n",
    "\n",
    "# Load the best model saved during training\n",
    "best_model = load_model('best_model.keras')"
   ]
  },
  {
   "cell_type": "code",
   "execution_count": 114,
   "id": "49dc5088",
   "metadata": {},
   "outputs": [
    {
     "name": "stdout",
     "output_type": "stream",
     "text": [
      "Validation Loss: 0.7043\n",
      "Validation Accuracy: 69.35%\n"
     ]
    }
   ],
   "source": [
    "# Evaluate the model on the validation set\n",
    "loss, accuracy = best_model.evaluate(X_val, y_val, verbose=0)\n",
    "print(f\"Validation Loss: {loss:.4f}\")\n",
    "print(f\"Validation Accuracy: {accuracy * 100:.2f}%\")\n"
   ]
  },
  {
   "cell_type": "code",
   "execution_count": 115,
   "id": "a1291288",
   "metadata": {},
   "outputs": [
    {
     "name": "stdout",
     "output_type": "stream",
     "text": [
      "\u001b[1m196/196\u001b[0m \u001b[32m━━━━━━━━━━━━━━━━━━━━\u001b[0m\u001b[37m\u001b[0m \u001b[1m14s\u001b[0m 72ms/step\n",
      "Classification Report:\n",
      "              precision    recall  f1-score   support\n",
      "\n",
      "           0       0.68      0.68      0.68      1824\n",
      "           1       0.62      0.67      0.64      2322\n",
      "           2       0.80      0.73      0.76      2101\n",
      "\n",
      "    accuracy                           0.69      6247\n",
      "   macro avg       0.70      0.69      0.70      6247\n",
      "weighted avg       0.70      0.69      0.70      6247\n",
      "\n",
      "\u001b[1m196/196\u001b[0m \u001b[32m━━━━━━━━━━━━━━━━━━━━\u001b[0m\u001b[37m\u001b[0m \u001b[1m15s\u001b[0m 76ms/step\n",
      "ROC-AUC for class 0: 0.88\n",
      "ROC-AUC for class 1: 0.80\n",
      "ROC-AUC for class 2: 0.90\n",
      "Overall ROC-AUC (Macro Average): 0.86\n"
     ]
    }
   ],
   "source": [
    "from sklearn.metrics import classification_report, roc_auc_score\n",
    "\n",
    "# Predict probabilities\n",
    "y_pred_prob = best_model.predict(X_val)\n",
    "\n",
    "# Convert probabilities to class labels\n",
    "y_pred = np.argmax(y_pred_prob, axis=1)\n",
    "\n",
    "# If labels are one-hot encoded, convert them back to integers\n",
    "# y_true = np.argmax(y_val, axis=1)  # Uncomment if using one-hot encoding\n",
    "y_true = y_val  # Integer-encoded labels\n",
    "\n",
    "# Classification Report\n",
    "print(\"Classification Report:\")\n",
    "print(classification_report(y_true, y_pred))\n",
    "\n",
    "# ROC-AUC Score for each class\n",
    "# One-vs-Rest approach\n",
    "from sklearn.preprocessing import label_binarize\n",
    "\n",
    "# Binarize the labels for ROC-AUC\n",
    "y_true_binarized = label_binarize(y_true, classes=[0, 1, 2])\n",
    "y_pred_prob = best_model.predict(X_val)\n",
    "\n",
    "roc_auc = roc_auc_score(y_true_binarized, y_pred_prob, average=None)\n",
    "for idx, score in enumerate(roc_auc):\n",
    "    print(f\"ROC-AUC for class {idx}: {score:.2f}\")\n",
    "\n",
    "# Overall ROC-AUC (Macro average)\n",
    "roc_auc_macro = roc_auc_score(y_true_binarized, y_pred_prob, average='macro')\n",
    "print(f\"Overall ROC-AUC (Macro Average): {roc_auc_macro:.2f}\")\n"
   ]
  },
  {
   "cell_type": "code",
   "execution_count": 116,
   "id": "3090c48c",
   "metadata": {},
   "outputs": [
    {
     "data": {
      "image/png": "[encoded data removed]",
      "text/plain": [
       "<Figure size 1200x600 with 1 Axes>"
      ]
     },
     "metadata": {},
     "output_type": "display_data"
    },
    {
     "data": {
      "image/png": "[encoded data removed]",
      "text/plain": [
       "<Figure size 1200x600 with 1 Axes>"
      ]
     },
     "metadata": {},
     "output_type": "display_data"
    }
   ],
   "source": [
    "import matplotlib.pyplot as plt\n",
    "\n",
    "# Plot Training & Validation Loss\n",
    "plt.figure(figsize=(12, 6))\n",
    "plt.plot(history.history['loss'], label='Training Loss', color='blue')\n",
    "plt.plot(history.history['val_loss'], label='Validation Loss', color='orange')\n",
    "plt.title('Training and Validation Loss')\n",
    "plt.xlabel('Epoch')\n",
    "plt.ylabel('Loss')\n",
    "plt.legend()\n",
    "plt.show()\n",
    "\n",
    "# Plot Training & Validation Accuracy\n",
    "plt.figure(figsize=(12, 6))\n",
    "plt.plot(history.history['accuracy'], label='Training Accuracy', color='blue')\n",
    "plt.plot(history.history['val_accuracy'], label='Validation Accuracy', color='orange')\n",
    "plt.title('Training and Validation Accuracy')\n",
    "plt.xlabel('Epoch')\n",
    "plt.ylabel('Accuracy')\n",
    "plt.legend()\n",
    "plt.show()\n"
   ]
  },
  {
   "cell_type": "code",
   "execution_count": null,
   "id": "f94a1b0a",
   "metadata": {},
   "outputs": [],
   "source": [
    "# Save the final model\n",
    "best_model.save('final_multiclass_sentiment_model.keras')\n",
    "print(\"Final model saved as 'final_multiclass_sentiment_model.keras'.\")"
   ]
  }
 ],
 "metadata": {
  "kernelspec": {
   "display_name": "Python 3 (ipykernel)",
   "language": "python",
   "name": "python3"
  },
  "language_info": {
   "codemirror_mode": {
    "name": "ipython",
    "version": 3
   },
   "file_extension": ".py",
   "mimetype": "text/x-python",
   "name": "python",
   "nbconvert_exporter": "python",
   "pygments_lexer": "ipython3",
   "version": "3.11.7"
  }
 },
 "nbformat": 4,
 "nbformat_minor": 5
}
